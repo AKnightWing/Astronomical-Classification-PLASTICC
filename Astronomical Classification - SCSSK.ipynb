{
 "cells": [
  {
   "cell_type": "markdown",
   "metadata": {},
   "source": [
    "# Preprocessing Training Data"
   ]
  },
  {
   "cell_type": "code",
   "execution_count": 1,
   "metadata": {},
   "outputs": [],
   "source": [
    "import pandas as pd\n",
    "import numpy as np\n",
    "from time import process_time \n",
    "import pickle\n",
    "import random"
   ]
  },
  {
   "cell_type": "code",
   "execution_count": 2,
   "metadata": {},
   "outputs": [],
   "source": [
    "t1=process_time()"
   ]
  },
  {
   "cell_type": "markdown",
   "metadata": {},
   "source": [
    "### Step 1: Read dataframe, normalise and merge them"
   ]
  },
  {
   "cell_type": "code",
   "execution_count": 3,
   "metadata": {},
   "outputs": [],
   "source": [
    "data_location=r\"D:\\Siddharth Data\\PLAsTiCC\\Raw Data\""
   ]
  },
  {
   "cell_type": "code",
   "execution_count": 4,
   "metadata": {},
   "outputs": [],
   "source": [
    "df=pd.read_csv(fr\"{data_location}\\training_set.csv\")\n",
    "df_metadata=pd.read_csv(fr\"{data_location}\\training_set_metadata.csv\")"
   ]
  },
  {
   "cell_type": "code",
   "execution_count": 5,
   "metadata": {
    "scrolled": true
   },
   "outputs": [],
   "source": [
    "#Comment and uncomment as required\n",
    "\n",
    "# all_flux=df.loc[:,\"flux\"].values\n",
    "# all_flux_err=df.loc[:,\"flux_err\"].values\n",
    "\n",
    "# all_hostgal_specz=df_metadata.loc[:,\"hostgal_specz\"].values\n",
    "# all_hostgal_photoz=df_metadata.loc[:,\"hostgal_photoz\"].values\n",
    "# all_hostgal_photoz_err=df_metadata.loc[:,\"hostgal_photoz_err\"].values"
   ]
  },
  {
   "cell_type": "code",
   "execution_count": 6,
   "metadata": {},
   "outputs": [],
   "source": [
    "#Comment and uncomment as required\n",
    "\n",
    "# flux_mean=np.mean(all_flux)\n",
    "# flux_err_mean=np.mean(all_flux_err)\n",
    "# flux_std=np.std(all_flux)\n",
    "# flux_err_std=np.std(all_flux_err)\n",
    "\n",
    "# hostgal_specz_mean=np.mean(all_hostgal_specz)\n",
    "# hostgal_photoz_mean=np.mean(all_hostgal_photoz)\n",
    "# hostgal_photoz_err_mean=np.mean(all_hostgal_photoz_err)\n",
    "# hostgal_specz_std=np.std(all_hostgal_specz)\n",
    "# hostgal_photoz_std=np.std(all_hostgal_photoz)\n",
    "# hostgal_photoz_err_std=np.std(all_hostgal_photoz_err)\n"
   ]
  },
  {
   "cell_type": "code",
   "execution_count": 7,
   "metadata": {},
   "outputs": [],
   "source": [
    "#Comment and uncomment as required\n",
    "\n",
    "# df.loc[:,\"flux\"]=(all_flux - flux_mean)/flux_std\n",
    "# df.loc[:,\"flux_err\"]=(all_flux_err - flux_err_mean)/flux_err_std\n",
    "\n",
    "# df_metadata.loc[:,\"hostgal_specz\"]=(all_hostgal_specz - hostgal_specz_mean)/hostgal_specz_std\n",
    "# df_metadata.loc[:,\"hostgal_photoz\"]=(all_hostgal_photoz - hostgal_photoz_mean)/hostgal_photoz_std\n",
    "# df_metadata.loc[:,\"hostgal_photoz_err\"]=(all_hostgal_photoz_err - hostgal_photoz_err_mean)/hostgal_photoz_err_std"
   ]
  },
  {
   "cell_type": "code",
   "execution_count": 8,
   "metadata": {},
   "outputs": [],
   "source": [
    "df=df.merge(df_metadata)"
   ]
  },
  {
   "cell_type": "code",
   "execution_count": 9,
   "metadata": {},
   "outputs": [],
   "source": [
    "del(df_metadata)\n",
    "\n",
    "#Comment and uncomment as required\n",
    "\n",
    "# del(all_flux)\n",
    "# del(all_flux_err)\n",
    "# del(all_hostgal_specz)\n",
    "# del(all_hostgal_photoz)\n",
    "# del(all_hostgal_photoz_err)"
   ]
  },
  {
   "cell_type": "markdown",
   "metadata": {},
   "source": [
    "### Step 2: Compute (cumulative) time difference between each observation for each object"
   ]
  },
  {
   "cell_type": "code",
   "execution_count": 10,
   "metadata": {},
   "outputs": [],
   "source": [
    "#Calculate time diff between all observations in mjd\n",
    "df[\"mjd_diff\"]=df['mjd'].diff()\n",
    "df[\"mjd_diff\"]=df[\"mjd_diff\"].fillna(0)"
   ]
  },
  {
   "cell_type": "code",
   "execution_count": 11,
   "metadata": {},
   "outputs": [],
   "source": [
    "#Find indexes where new objects appear, and set the mjd_diff for this to 0\n",
    "obj_change_index=np.where(df[\"object_id\"].values[:-1] != df[\"object_id\"].values[1:])[0] + 1\n",
    "df.loc[obj_change_index, ['mjd_diff']]=0"
   ]
  },
  {
   "cell_type": "code",
   "execution_count": 12,
   "metadata": {},
   "outputs": [],
   "source": [
    "# Use groupby method to find seperate cumsums for all objects\n",
    "df[\"cumulative_mjd_diff\"]=df.loc[:,[\"object_id\", \"mjd_diff\"]].groupby(\"object_id\").cumsum()"
   ]
  },
  {
   "cell_type": "markdown",
   "metadata": {},
   "source": [
    "### Step 3: Convert given targets to standard form (0-14) "
   ]
  },
  {
   "cell_type": "code",
   "execution_count": 13,
   "metadata": {},
   "outputs": [],
   "source": [
    "#Use dictionary to create new column, replacing targets(6,15,...) by class(0,1,...)\n",
    "target_dict ={\n",
    "    6: 0,\n",
    "    15: 1,\n",
    "    16: 2,\n",
    "    42: 3,\n",
    "    52: 4,\n",
    "    53: 5,\n",
    "    62: 6,\n",
    "    64: 7,\n",
    "    65: 8,\n",
    "    67: 9,\n",
    "    88: 10,\n",
    "    90: 11,\n",
    "    92: 12,\n",
    "    95: 13,\n",
    "    99: 14\n",
    "}\n",
    "df[\"target_class\"]=df.loc[:,[\"target\"]].replace(target_dict)"
   ]
  },
  {
   "cell_type": "markdown",
   "metadata": {},
   "source": [
    "### Step 4: Group MJDs within 1 night of each other"
   ]
  },
  {
   "cell_type": "code",
   "execution_count": 14,
   "metadata": {},
   "outputs": [],
   "source": [
    "mjd_arr=df[\"mjd\"].values\n",
    "time_diff_arr=df[\"mjd_diff\"].values\n",
    "grouped_mjd_arr=np.zeros_like(mjd_arr)"
   ]
  },
  {
   "cell_type": "code",
   "execution_count": 15,
   "metadata": {},
   "outputs": [],
   "source": [
    "prev_time=0\n",
    "for i in range(len(mjd_arr)):\n",
    "    current_time=mjd_arr[i]\n",
    "    time_diff=time_diff_arr[i]\n",
    "    if time_diff==0 or current_time-prev_time>0.33:\n",
    "        grouped_mjd_arr[i]=current_time\n",
    "        prev_time=current_time\n",
    "    else:\n",
    "        grouped_mjd_arr[i]=prev_time"
   ]
  },
  {
   "cell_type": "code",
   "execution_count": 16,
   "metadata": {},
   "outputs": [],
   "source": [
    "df[\"grouped_mjd\"]=grouped_mjd_arr"
   ]
  },
  {
   "cell_type": "code",
   "execution_count": 17,
   "metadata": {},
   "outputs": [],
   "source": [
    "del(grouped_mjd_arr)\n",
    "del(time_diff_arr)\n",
    "del(mjd_arr)"
   ]
  },
  {
   "cell_type": "markdown",
   "metadata": {},
   "source": [
    "### Step 5: For observations of the same passband within 1 night of each other, choose the one with least flux_err"
   ]
  },
  {
   "cell_type": "code",
   "execution_count": 18,
   "metadata": {},
   "outputs": [],
   "source": [
    "df = df.sort_values(\"flux_err\").groupby([\"object_id\", \"grouped_mjd\", \"passband\"]).first()\n",
    "df = df.reset_index()"
   ]
  },
  {
   "cell_type": "markdown",
   "metadata": {},
   "source": [
    "### Step 6: Create passband column"
   ]
  },
  {
   "cell_type": "code",
   "execution_count": 19,
   "metadata": {},
   "outputs": [],
   "source": [
    "#Drop all unnecessary columns. Note : mjd_diff and cumulative_mjd_diff are dropped as cause problems when pivoting. Will recalculate later\n",
    "df = df.drop(\n",
    "    [\n",
    "        \"mjd\",\n",
    "        \"detected\",\n",
    "        \"ra\",\n",
    "        \"decl\",\n",
    "        \"gal_b\",\n",
    "        \"gal_l\",\n",
    "        \"mjd_diff\",\n",
    "        \"cumulative_mjd_diff\",\n",
    "#         \"ddf\",                      #Experiment with these last 3\n",
    "#         \"distmod\",\n",
    "#         \"mwebv\"\n",
    "    ],\n",
    "    axis=1,\n",
    ")"
   ]
  },
  {
   "cell_type": "code",
   "execution_count": 20,
   "metadata": {},
   "outputs": [],
   "source": [
    "fixed_features=[\"ddf\",\"hostgal_specz\",\"hostgal_photoz\",\"hostgal_photoz_err\",\"distmod\",\"mwebv\"]\n",
    "mini_df=df[[\"object_id\"] + fixed_features ].groupby(\"object_id\").first()\n",
    "\n",
    "df=df.drop(mini_df,axis=1)\n",
    "df = pd.pivot_table(df, index=[\"object_id\",\"grouped_mjd\",\"target\",\"target_class\"], columns=[\"passband\"])\n",
    "df.columns= [f\"{tup[0]}_passband_{tup[1]}\" for tup in df.columns.values]\n",
    "df=df.reset_index([\"grouped_mjd\",\"target\",\"target_class\"])\n",
    "df=df.join(mini_df,how=\"left\")\n",
    "\n",
    "del(mini_df)"
   ]
  },
  {
   "cell_type": "code",
   "execution_count": 21,
   "metadata": {},
   "outputs": [],
   "source": [
    "df=df.rename(columns={\"grouped_mjd\": \"mjd\"})\n",
    "df=df.reset_index()\n",
    "\n",
    "\n",
    "#Calculate time diff between all observations in mjd\n",
    "df[\"mjd_diff\"]=df['mjd'].diff()\n",
    "df[\"mjd_diff\"]=df[\"mjd_diff\"].fillna(0)\n",
    "#Find indexes where new objects appear, and set the mjd_diff for this to 0\n",
    "obj_change_index=np.where(df[\"object_id\"].values[:-1] != df[\"object_id\"].values[1:])[0] + 1\n",
    "df.loc[obj_change_index, ['mjd_diff']]=0"
   ]
  },
  {
   "cell_type": "code",
   "execution_count": 22,
   "metadata": {},
   "outputs": [],
   "source": [
    "#FUTURE: Try making the time series uniform everywhere by inputting 0 everyday when data wasn't measured"
   ]
  },
  {
   "cell_type": "markdown",
   "metadata": {},
   "source": [
    "### Step 7: Convert dataframe into list of form [(nparray,target_class,obj_id)]"
   ]
  },
  {
   "cell_type": "code",
   "execution_count": 23,
   "metadata": {},
   "outputs": [],
   "source": [
    "df=df.set_index([\"object_id\"])"
   ]
  },
  {
   "cell_type": "code",
   "execution_count": 24,
   "metadata": {},
   "outputs": [],
   "source": [
    "df=df.drop(\n",
    "    [\n",
    "        \"mjd\",\n",
    "        \"target\",\n",
    "    ],\n",
    "    axis=1,\n",
    ")\n",
    "df = df.fillna(0)\n",
    "#FUTURE: Try filling -1 and see if performance improves"
   ]
  },
  {
   "cell_type": "code",
   "execution_count": 25,
   "metadata": {},
   "outputs": [],
   "source": [
    "#Save some memory by converting float64 to float32 as 32 enough\n",
    "for col in df.columns:\n",
    "    if df[col].dtype == np.float64:\n",
    "        df[col] = df[col].astype(np.float32)"
   ]
  },
  {
   "cell_type": "code",
   "execution_count": 26,
   "metadata": {},
   "outputs": [],
   "source": [
    "#Recalculate time diff between all rows and set new objs to zero as before\n",
    "all_obj_ids=np.unique(df.index.get_level_values(0).values)\n",
    "dfarray=df.reset_index().to_numpy()\n",
    "all_obj_ids_long=dfarray[0:,0]\n",
    "all_labels_long=dfarray[0:,1]\n",
    "obj_change_index=np.where(all_obj_ids_long[:-1] != all_obj_ids_long[1:])[0] + 1"
   ]
  },
  {
   "cell_type": "code",
   "execution_count": 27,
   "metadata": {},
   "outputs": [],
   "source": [
    "tuplist=list(zip(np.insert(obj_change_index,0,0),obj_change_index))\n",
    "list_of_data_arrays=[]\n",
    "for tup in tuplist:\n",
    "    list_of_data_arrays.append((dfarray[tup[0]:tup[1],2:],int(dfarray[tup[0],1]),int(dfarray[tup[0],0])))\n",
    "list_of_data_arrays.append((dfarray[obj_change_index[-1]:,2:],int(dfarray[obj_change_index[-1],1]),int(dfarray[obj_change_index[-1],0])))"
   ]
  },
  {
   "cell_type": "code",
   "execution_count": 28,
   "metadata": {},
   "outputs": [],
   "source": [
    "#list_of_data_arrays              #REQUIRED LIST OF ARRAYS!!!"
   ]
  },
  {
   "cell_type": "code",
   "execution_count": 29,
   "metadata": {},
   "outputs": [],
   "source": [
    "del(all_labels_long)\n",
    "del(all_obj_ids)\n",
    "del(all_obj_ids_long)\n",
    "del(df)\n",
    "del(dfarray)\n",
    "del(obj_change_index)\n",
    "del(tuplist)"
   ]
  },
  {
   "cell_type": "code",
   "execution_count": 30,
   "metadata": {},
   "outputs": [
    {
     "name": "stdout",
     "output_type": "stream",
     "text": [
      "Preprocessing took 10.15625 seconds.\n"
     ]
    }
   ],
   "source": [
    "t2=process_time()\n",
    "print(f\"Preprocessing took {t2-t1} seconds.\")"
   ]
  },
  {
   "cell_type": "markdown",
   "metadata": {},
   "source": [
    "### Step 8: Save as pickle"
   ]
  },
  {
   "cell_type": "code",
   "execution_count": 31,
   "metadata": {},
   "outputs": [],
   "source": [
    "with open(r\"C:\\Users\\Sid\\Desktop\\bigpickle\", \"wb\") as fp:   #Pickling\n",
    "    pickle.dump(list_of_data_arrays, fp)"
   ]
  },
  {
   "cell_type": "markdown",
   "metadata": {},
   "source": [
    "# Deep Learning"
   ]
  },
  {
   "cell_type": "code",
   "execution_count": 1,
   "metadata": {},
   "outputs": [
    {
     "name": "stderr",
     "output_type": "stream",
     "text": [
      "Using TensorFlow backend.\n"
     ]
    }
   ],
   "source": [
    "import numpy as np\n",
    "import matplotlib.pyplot as plt\n",
    "from keras.models import Sequential\n",
    "from keras.layers import LSTM, Dense, Dropout,Bidirectional,Conv1D, MaxPooling1D\n",
    "from keras.utils import to_categorical\n",
    "from keras.backend import clear_session\n",
    "from keras.optimizers import Adam\n",
    "import numpy as np\n",
    "import pickle\n",
    "import random\n",
    "from keras.layers.embeddings import Embedding\n",
    "from keras.preprocessing import sequence\n",
    "# fix random seed for reproducibility\n",
    "np.random.seed(21)"
   ]
  },
  {
   "cell_type": "code",
   "execution_count": 2,
   "metadata": {},
   "outputs": [],
   "source": [
    "def plot_training_history(history, model):\n",
    "    plt.plot(history.history['accuracy'])\n",
    "    plt.plot(history.history['val_accuracy'])\n",
    "    plt.title('model accuracy')\n",
    "    plt.ylabel('accuracy')\n",
    "    plt.xlabel('epoch')\n",
    "    plt.legend(['training', 'validation'], loc='best')\n",
    "\n",
    "    plt.show()\n",
    "\n",
    "    plt.plot(history.history['loss'])\n",
    "    plt.plot(history.history['val_loss'])\n",
    "    plt.title('model loss')\n",
    "    plt.ylabel('loss')\n",
    "    plt.xlabel('epoch')\n",
    "    plt.legend(['training', 'validation'], loc='best')\n",
    "\n",
    "    plt.show()\n",
    "    \n",
    "#     loss, accuracy  = model.evaluate(test_data, test_labels, verbose=False)\n",
    "#     print(f'Test loss: {loss:.3}')\n",
    "#     print(f'Test accuracy: {accuracy:.3}')"
   ]
  },
  {
   "cell_type": "code",
   "execution_count": 3,
   "metadata": {
    "scrolled": true
   },
   "outputs": [],
   "source": [
    "try:\n",
    "    list_of_data_arrays\n",
    "except NameError:\n",
    "    with open(r\"C:\\Users\\Sid\\Desktop\\bigpickle\", \"rb\") as fp:   # Unpickling\n",
    "        list_of_data_arrays=pickle.load(fp)    "
   ]
  },
  {
   "cell_type": "code",
   "execution_count": 4,
   "metadata": {},
   "outputs": [],
   "source": [
    "#shuffle=random.sample(list_of_data_arrays, len(list_of_data_arrays))\n",
    "shuffle=list_of_data_arrays\n",
    "random.shuffle(shuffle)\n",
    "del(list_of_data_arrays)"
   ]
  },
  {
   "cell_type": "code",
   "execution_count": 5,
   "metadata": {},
   "outputs": [],
   "source": [
    "shuffle_arr=np.array(shuffle)[0:,0]\n",
    "shuffle_labels=np.array(shuffle)[0:,1]\n",
    "shuffle_obj_ids=np.array(shuffle)[0:,2]\n",
    "del(shuffle)"
   ]
  },
  {
   "cell_type": "code",
   "execution_count": 6,
   "metadata": {},
   "outputs": [
    {
     "name": "stdout",
     "output_type": "stream",
     "text": [
      "Model: \"sequential_1\"\n",
      "_________________________________________________________________\n",
      "Layer (type)                 Output Shape              Param #   \n",
      "=================================================================\n",
      "lstm_1 (LSTM)                (None, 162, 64)           21504     \n",
      "_________________________________________________________________\n",
      "lstm_2 (LSTM)                (None, 64)                33024     \n",
      "_________________________________________________________________\n",
      "dense_1 (Dense)              (None, 15)                975       \n",
      "=================================================================\n",
      "Total params: 55,503\n",
      "Trainable params: 55,503\n",
      "Non-trainable params: 0\n",
      "_________________________________________________________________\n"
     ]
    }
   ],
   "source": [
    "max_length=max(map(len,shuffle_arr))\n",
    "\n",
    "x_train = sequence.pad_sequences(shuffle_arr[:7066], maxlen=max_length)\n",
    "x_val = sequence.pad_sequences(shuffle_arr[7066:], maxlen=max_length)\n",
    "y_train=to_categorical(shuffle_labels[:7066], num_classes=15)\n",
    "y_val=to_categorical(shuffle_labels[7066:], num_classes=15)\n",
    "\n",
    "clear_session()\n",
    "\n",
    "data_dim = 19\n",
    "timesteps = max_length\n",
    "num_classes = 15\n",
    "\n",
    "# expected input data shape: (batch_size, timesteps, data_dim)\n",
    "model = Sequential()\n",
    "model.add(LSTM(64, return_sequences=True,\n",
    "               input_shape=(timesteps, data_dim)))  # returns a sequence of vectors of dimension 32\n",
    "# model.add(LSTM(64, return_sequences=True))  # returns a sequence of vectors of dimension 32\n",
    "model.add(LSTM(64))  # return a single vector of dimension 32\n",
    "model.add(Dense(15, activation='softmax'))\n",
    "\n",
    "model.compile(loss='categorical_crossentropy',\n",
    "              optimizer='adam',\n",
    "              metrics=['accuracy'])\n",
    "\n",
    "model.summary()"
   ]
  },
  {
   "cell_type": "code",
   "execution_count": 7,
   "metadata": {},
   "outputs": [
    {
     "name": "stdout",
     "output_type": "stream",
     "text": [
      "Train on 7066 samples, validate on 782 samples\n",
      "Epoch 1/3\n",
      "7066/7066 [==============================] - 21s 3ms/step - loss: 1.8151 - accuracy: 0.4366 - val_loss: 1.4358 - val_accuracy: 0.5345\n",
      "Epoch 2/3\n",
      "7066/7066 [==============================] - 20s 3ms/step - loss: 1.3336 - accuracy: 0.5536 - val_loss: 1.2010 - val_accuracy: 0.6010\n",
      "Epoch 3/3\n",
      "7066/7066 [==============================] - 21s 3ms/step - loss: 1.2092 - accuracy: 0.5804 - val_loss: 1.1415 - val_accuracy: 0.6100\n"
     ]
    }
   ],
   "source": [
    "history=model.fit(x_train, y_train,\n",
    "          batch_size=128, epochs=3,\n",
    "          validation_data=(x_val, y_val))"
   ]
  },
  {
   "cell_type": "code",
   "execution_count": 8,
   "metadata": {},
   "outputs": [
    {
     "data": {
      "image/png": "[encoded data removed]",
      "text/plain": [
       "<Figure size 432x288 with 1 Axes>"
      ]
     },
     "metadata": {
      "needs_background": "light"
     },
     "output_type": "display_data"
    },
    {
     "data": {
      "image/png": "[encoded data removed]",
      "text/plain": [
       "<Figure size 432x288 with 1 Axes>"
      ]
     },
     "metadata": {
      "needs_background": "light"
     },
     "output_type": "display_data"
    }
   ],
   "source": [
    "plot_training_history(history, model)"
   ]
  },
  {
   "cell_type": "code",
   "execution_count": null,
   "metadata": {},
   "outputs": [],
   "source": [
    "assert (1==0)"
   ]
  },
  {
   "cell_type": "markdown",
   "metadata": {},
   "source": [
    "# 5-Cross Validation"
   ]
  },
  {
   "cell_type": "code",
   "execution_count": 1,
   "metadata": {},
   "outputs": [
    {
     "name": "stderr",
     "output_type": "stream",
     "text": [
      "Using TensorFlow backend.\n"
     ]
    }
   ],
   "source": [
    "try:\n",
    "    shuffle_arr\n",
    "except NameError:\n",
    "    import numpy as np\n",
    "    import matplotlib.pyplot as plt\n",
    "    from keras.models import Sequential\n",
    "    from keras.layers import LSTM, Dense, Dropout,Bidirectional,Conv1D, MaxPooling1D\n",
    "    from keras.utils import to_categorical\n",
    "    from keras.backend import clear_session\n",
    "    from keras.optimizers import Adam\n",
    "    import numpy as np\n",
    "    import pickle\n",
    "    import random\n",
    "    from keras.layers.embeddings import Embedding\n",
    "    from keras.preprocessing import sequence\n",
    "    # fix random seed for reproducibility\n",
    "    np.random.seed(21)\n",
    "\n",
    "    try:\n",
    "        list_of_data_arrays\n",
    "    except NameError:\n",
    "        with open(r\"C:\\Users\\Sid\\Desktop\\bigpickle\", \"rb\") as fp:   # Unpickling\n",
    "            list_of_data_arrays=pickle.load(fp)    \n",
    "\n",
    "    shuffle=list_of_data_arrays\n",
    "    random.shuffle(shuffle)\n",
    "    del(list_of_data_arrays)\n",
    "\n",
    "    shuffle_arr=np.array(shuffle)[0:,0]\n",
    "    shuffle_labels=np.array(shuffle)[0:,1]\n",
    "    shuffle_obj_ids=np.array(shuffle)[0:,2]\n",
    "    del(shuffle)"
   ]
  },
  {
   "cell_type": "code",
   "execution_count": 2,
   "metadata": {},
   "outputs": [
    {
     "name": "stdout",
     "output_type": "stream",
     "text": [
      "------------------------------------------------------------------------\n",
      "Training for fold 1 ...\n",
      "Epoch 1/3\n",
      "6278/6278 [==============================] - 19s 3ms/step - loss: 1.8043 - accuracy: 0.4560\n",
      "Epoch 2/3\n",
      "6278/6278 [==============================] - 18s 3ms/step - loss: 1.3305 - accuracy: 0.5572\n",
      "Epoch 3/3\n",
      "6278/6278 [==============================] - 18s 3ms/step - loss: 1.2176 - accuracy: 0.5857\n",
      "Score for fold 1: loss of 1.148380038388975; accuracy of 60.50955653190613%\n",
      "------------------------------------------------------------------------\n",
      "Training for fold 2 ...\n",
      "Epoch 1/3\n",
      "6278/6278 [==============================] - 17s 3ms/step - loss: 1.8088 - accuracy: 0.4431\n",
      "Epoch 2/3\n",
      "6278/6278 [==============================] - 19s 3ms/step - loss: 1.3523 - accuracy: 0.5524\n",
      "Epoch 3/3\n",
      "6278/6278 [==============================] - 19s 3ms/step - loss: 1.2085 - accuracy: 0.5957\n",
      "Score for fold 2: loss of 1.1601448587551237; accuracy of 59.87260937690735%\n",
      "------------------------------------------------------------------------\n",
      "Training for fold 3 ...\n",
      "Epoch 1/3\n",
      "6278/6278 [==============================] - 19s 3ms/step - loss: 1.8029 - accuracy: 0.4431\n",
      "Epoch 2/3\n",
      "6278/6278 [==============================] - 18s 3ms/step - loss: 1.3614 - accuracy: 0.5462\n",
      "Epoch 3/3\n",
      "6278/6278 [==============================] - 19s 3ms/step - loss: 1.2442 - accuracy: 0.5793\n",
      "Score for fold 3: loss of 1.2341053325469327; accuracy of 57.070064544677734%\n",
      "------------------------------------------------------------------------\n",
      "Training for fold 4 ...\n",
      "Epoch 1/3\n",
      "6279/6279 [==============================] - 19s 3ms/step - loss: 1.8758 - accuracy: 0.4443\n",
      "Epoch 2/3\n",
      "6279/6279 [==============================] - 19s 3ms/step - loss: 1.3683 - accuracy: 0.5475\n",
      "Epoch 3/3\n",
      "6279/6279 [==============================] - 19s 3ms/step - loss: 1.2471 - accuracy: 0.5717\n",
      "Score for fold 4: loss of 1.1984088255616037; accuracy of 58.508604764938354%\n",
      "------------------------------------------------------------------------\n",
      "Training for fold 5 ...\n",
      "Epoch 1/3\n",
      "6279/6279 [==============================] - 21s 3ms/step - loss: 1.8079 - accuracy: 0.4550\n",
      "Epoch 2/3\n",
      "6279/6279 [==============================] - 19s 3ms/step - loss: 1.3647 - accuracy: 0.5466\n",
      "Epoch 3/3\n",
      "6279/6279 [==============================] - 19s 3ms/step - loss: 1.2325 - accuracy: 0.5756\n",
      "Score for fold 5: loss of 1.2711892876372815; accuracy of 56.53282403945923%\n",
      "------------------------------------------------------------------------\n",
      "Score per fold\n",
      "------------------------------------------------------------------------\n",
      "> Fold 1 - Loss: 1.148380038388975 - Accuracy: 60.50955653190613%\n",
      "------------------------------------------------------------------------\n",
      "> Fold 2 - Loss: 1.1601448587551237 - Accuracy: 59.87260937690735%\n",
      "------------------------------------------------------------------------\n",
      "> Fold 3 - Loss: 1.2341053325469327 - Accuracy: 57.070064544677734%\n",
      "------------------------------------------------------------------------\n",
      "> Fold 4 - Loss: 1.1984088255616037 - Accuracy: 58.508604764938354%\n",
      "------------------------------------------------------------------------\n",
      "> Fold 5 - Loss: 1.2711892876372815 - Accuracy: 56.53282403945923%\n",
      "------------------------------------------------------------------------\n",
      "Average scores for all folds:\n",
      "> Accuracy: 58.49873185157776 (+- 1.538631640360701)\n",
      "> Loss: 1.2024456685779834\n",
      "------------------------------------------------------------------------\n"
     ]
    }
   ],
   "source": [
    "from sklearn.model_selection import KFold\n",
    "#Define some model parameters\n",
    "num_folds = 5\n",
    "validation_split = 0.1\n",
    "max_length=max(map(len,shuffle_arr))\n",
    "data_dim = 19\n",
    "timesteps = max_length\n",
    "num_classes = 15\n",
    "num_epochs=3\n",
    "batch_size=128\n",
    "\n",
    "# Define per-fold score containers\n",
    "acc_per_fold = []\n",
    "loss_per_fold = []\n",
    "history_per_fold=[]\n",
    "\n",
    "# Define inputs and targets\n",
    "inputs = sequence.pad_sequences(shuffle_arr, maxlen=max_length)\n",
    "targets = to_categorical(shuffle_labels, num_classes=15)\n",
    "\n",
    "# Define the K-fold Cross Validator\n",
    "kfold = KFold(n_splits=num_folds, shuffle=True)\n",
    "\n",
    "# K-fold Cross Validation model evaluation\n",
    "fold_no = 1\n",
    "for train, val in kfold.split(inputs, targets):\n",
    "    #Clear Keras history for no bias\n",
    "    clear_session()\n",
    "    #Create new Keras Sequential model\n",
    "    model = Sequential()\n",
    "    model.add(LSTM(64, return_sequences=True,input_shape=(timesteps, data_dim)))\n",
    "    model.add(LSTM(64))\n",
    "    model.add(Dense(15, activation='softmax'))\n",
    "    #Compile the model\n",
    "    model.compile(loss='categorical_crossentropy',optimizer='adam',metrics=['accuracy'])\n",
    "    # Generate a print\n",
    "    print('------------------------------------------------------------------------')\n",
    "    print(f'Training for fold {fold_no} ...')\n",
    "\n",
    "    # Fit data to model\n",
    "    history=model.fit(inputs[train], targets[train],batch_size=batch_size, epochs=num_epochs,verbose=True)\n",
    "    # Generate generalization metrics\n",
    "    history_per_fold.append(history)\n",
    "    scores = model.evaluate(inputs[val], targets[val], verbose=0)\n",
    "    print(f'Score for fold {fold_no}: {model.metrics_names[0]} of {scores[0]}; {model.metrics_names[1]} of {scores[1]*100}%')\n",
    "    acc_per_fold.append(scores[1] * 100)\n",
    "    loss_per_fold.append(scores[0])\n",
    "\n",
    "    # Increase fold number\n",
    "    fold_no = fold_no + 1\n",
    "\n",
    "# == Provide average scores ==\n",
    "print('------------------------------------------------------------------------')\n",
    "print(f\"FOR {num_epochs} EPOCHS PER FOLD\")\n",
    "print('Scores per fold are:')\n",
    "for i in range(0, len(acc_per_fold)):\n",
    "    print('------------------------------------------------------------------------')\n",
    "    print(f'> Fold {i+1} - Loss: {loss_per_fold[i]} - Accuracy: {acc_per_fold[i]}%')\n",
    "print('------------------------------------------------------------------------')\n",
    "print('Average scores for all folds:')\n",
    "print(f'> Accuracy: {np.mean(acc_per_fold)} % (+- {np.std(acc_per_fold)})')\n",
    "print(f'> Loss: {np.mean(loss_per_fold)}')\n",
    "print('------------------------------------------------------------------------')\n"
   ]
  },
  {
   "cell_type": "markdown",
   "metadata": {},
   "source": [
    "### Links:\n",
    "\n",
    "https://keras.io/examples/imdb_lstm/\n",
    "\n",
    "https://keras.io/examples/imdb_cnn_lstm/\n",
    "\n",
    "https://keras.io/examples/imdb_bidirectional_lstm/\n",
    "\n",
    "https://keras.io/examples/conv_lstm/\n",
    "\n",
    "https://keras.io/regularizers/\n",
    "\n",
    "https://keras.io/getting-started/sequential-model-guide/\n",
    "\n"
   ]
  },
  {
   "cell_type": "markdown",
   "metadata": {},
   "source": [
    "conv and 2 lstms\n",
    "\n",
    "adam, bs 4 64.28\n",
    "\n",
    "2 lstms, 64, 64:\n",
    "nadam - 62\n",
    "\n",
    "\n",
    "\n",
    "batch size 4:\n",
    "adam - 65 \n",
    "adamax - \n",
    "nadam - \n",
    "\n",
    "\n",
    "3 lstms, 64,64,64:\n",
    "adam - 57\n",
    "nadam - 62"
   ]
  },
  {
   "cell_type": "code",
   "execution_count": null,
   "metadata": {},
   "outputs": [],
   "source": []
  }
 ],
 "metadata": {
  "kernelspec": {
   "display_name": "Python 3",
   "language": "python",
   "name": "python3"
  },
  "language_info": {
   "codemirror_mode": {
    "name": "ipython",
    "version": 3
   },
   "file_extension": ".py",
   "mimetype": "text/x-python",
   "name": "python",
   "nbconvert_exporter": "python",
   "pygments_lexer": "ipython3",
   "version": "3.7.7"
  }
 },
 "nbformat": 4,
 "nbformat_minor": 4
}
