{
 "cells": [
  {
   "cell_type": "code",
   "execution_count": 1,
   "metadata": {},
   "outputs": [
    {
     "name": "stdout",
     "output_type": "stream",
     "text": [
      "Found config file! Loading it.\n",
      "D:\\Siddharth Data\\PLAsTiCC\\Raw Data\n",
      "Data Location = D:\\Siddharth Data\\PLAsTiCC\\Raw Data\n",
      "Found pickle location!\n",
      "Pickle Location = C:\\Users\\Sid\\Desktop\\Pickle\n"
     ]
    }
   ],
   "source": [
    "import pandas as pd\n",
    "import numpy as np\n",
    "from time import process_time \n",
    "import pickle\n",
    "import random\n",
    "from pathlib import Path\n",
    "import os\n",
    "import sys\n",
    "from sklearn import preprocessing\n",
    "import gc\n",
    "from scsskutils import *"
   ]
  },
  {
   "cell_type": "code",
   "execution_count": 2,
   "metadata": {},
   "outputs": [
    {
     "data": {
      "text/plain": [
       "WindowsPath('D:/Siddharth Data/PLAsTiCC/Raw Data')"
      ]
     },
     "execution_count": 2,
     "metadata": {},
     "output_type": "execute_result"
    }
   ],
   "source": [
    "data_location"
   ]
  },
  {
   "cell_type": "code",
   "execution_count": 3,
   "metadata": {},
   "outputs": [],
   "source": [
    "classes = np.array([6, 15, 16, 42, 52, 53, 62, 64, 65, 67, 88, 90, 92, 95, 99])\n",
    "class_weight = {6: 1, 15: 2, 16: 1, 42: 1, 52: 1, 53: 1, 62: 1, 64: 2, 65: 1, 67: 1, 88: 1, 90: 1, 92: 1, 95: 1, 99: 1}\n",
    "pb_wavelength = {0:360, 1:476, 2:621.5, 3:754.5, 4:870, 5:1015}\n",
    "#https://www.lsst.org/sites/default/files/docs/sciencebook/SB_2.pdf - pg35, Table 2.1"
   ]
  },
  {
   "cell_type": "code",
   "execution_count": 4,
   "metadata": {},
   "outputs": [],
   "source": [
    "def get_wtable(df):\n",
    "    all_y = np.array(df['target'], dtype = 'int32')\n",
    "    y_count = np.unique(all_y, return_counts=True)[1]\n",
    "    wtable = np.ones(len(classes))\n",
    "    for i in range(0, y_count.shape[0]):\n",
    "        wtable[i] = y_count[i] / all_y.shape[0]\n",
    "    return wtable"
   ]
  },
  {
   "cell_type": "code",
   "execution_count": 5,
   "metadata": {},
   "outputs": [],
   "source": [
    "target_dict ={\n",
    "    6: 0,\n",
    "    15: 1,\n",
    "    16: 2,\n",
    "    42: 3,\n",
    "    52: 4,\n",
    "    53: 5,\n",
    "    62: 6,\n",
    "    64: 7,\n",
    "    65: 8,\n",
    "    67: 9,\n",
    "    88: 10,\n",
    "    90: 11,\n",
    "    92: 12,\n",
    "    95: 13,\n",
    "    99: 14,\n",
    "    991: 14,\n",
    "    992: 14,\n",
    "    993: 14,\n",
    "    994: 14\n",
    "}\n"
   ]
  },
  {
   "cell_type": "markdown",
   "metadata": {},
   "source": [
    "# TestSetBatch2"
   ]
  },
  {
   "cell_type": "code",
   "execution_count": 6,
   "metadata": {},
   "outputs": [],
   "source": [
    "df=pd.read_csv(fr\"{data_location}\\test_set_batch2.csv\")"
   ]
  },
  {
   "cell_type": "code",
   "execution_count": 7,
   "metadata": {},
   "outputs": [],
   "source": [
    "df2d=pd.read_csv(fr\"{data_location}\\unblinded_test_set_metadata.csv\")"
   ]
  },
  {
   "cell_type": "code",
   "execution_count": 8,
   "metadata": {},
   "outputs": [],
   "source": [
    "current_objs = df.object_id.unique()\n",
    "all_objs = df2d.object_id.unique()\n",
    "indices_to_consider=np.intersect1d(current_objs,all_objs,return_indices=True)[2]\n",
    "df2d = df2d.iloc[indices_to_consider].reset_index(drop=True)"
   ]
  },
  {
   "cell_type": "code",
   "execution_count": 9,
   "metadata": {},
   "outputs": [],
   "source": [
    "df2d[\"target_class\"]=df2d.loc[:,[\"target\"]].replace(target_dict)\n",
    "df2d.drop([\"ra\",\"decl\",\"gal_l\",\"gal_b\",\"target\"],1,inplace=True)    #Should hostgal_specz be used or not? Hmmm"
   ]
  },
  {
   "cell_type": "code",
   "execution_count": 10,
   "metadata": {},
   "outputs": [],
   "source": [
    "df =df.merge(df2d[[\"object_id\",\"hostgal_photoz\"]],on=\"object_id\")"
   ]
  },
  {
   "cell_type": "code",
   "execution_count": 11,
   "metadata": {},
   "outputs": [],
   "source": [
    "df[\"object_id\"] = df[\"object_id\"].astype(np.float64)"
   ]
  },
  {
   "cell_type": "code",
   "execution_count": 12,
   "metadata": {},
   "outputs": [
    {
     "data": {
      "text/html": [
       "<div>\n",
       "<style scoped>\n",
       "    .dataframe tbody tr th:only-of-type {\n",
       "        vertical-align: middle;\n",
       "    }\n",
       "\n",
       "    .dataframe tbody tr th {\n",
       "        vertical-align: top;\n",
       "    }\n",
       "\n",
       "    .dataframe thead th {\n",
       "        text-align: right;\n",
       "    }\n",
       "</style>\n",
       "<table border=\"1\" class=\"dataframe\">\n",
       "  <thead>\n",
       "    <tr style=\"text-align: right;\">\n",
       "      <th></th>\n",
       "      <th>object_id</th>\n",
       "      <th>mjd</th>\n",
       "      <th>passband</th>\n",
       "      <th>flux</th>\n",
       "      <th>flux_err</th>\n",
       "      <th>detected</th>\n",
       "      <th>hostgal_photoz</th>\n",
       "    </tr>\n",
       "  </thead>\n",
       "  <tbody>\n",
       "    <tr>\n",
       "      <th>0</th>\n",
       "      <td>1000183.0</td>\n",
       "      <td>59583.2493</td>\n",
       "      <td>0</td>\n",
       "      <td>-4.635374</td>\n",
       "      <td>9.278234</td>\n",
       "      <td>0</td>\n",
       "      <td>0.6753</td>\n",
       "    </tr>\n",
       "    <tr>\n",
       "      <th>1</th>\n",
       "      <td>1000183.0</td>\n",
       "      <td>59585.3547</td>\n",
       "      <td>4</td>\n",
       "      <td>6.479336</td>\n",
       "      <td>11.734409</td>\n",
       "      <td>0</td>\n",
       "      <td>0.6753</td>\n",
       "    </tr>\n",
       "    <tr>\n",
       "      <th>2</th>\n",
       "      <td>1000183.0</td>\n",
       "      <td>59586.3595</td>\n",
       "      <td>4</td>\n",
       "      <td>-24.911951</td>\n",
       "      <td>13.357832</td>\n",
       "      <td>0</td>\n",
       "      <td>0.6753</td>\n",
       "    </tr>\n",
       "    <tr>\n",
       "      <th>3</th>\n",
       "      <td>1000183.0</td>\n",
       "      <td>59590.3573</td>\n",
       "      <td>5</td>\n",
       "      <td>-67.180305</td>\n",
       "      <td>21.674242</td>\n",
       "      <td>0</td>\n",
       "      <td>0.6753</td>\n",
       "    </tr>\n",
       "    <tr>\n",
       "      <th>4</th>\n",
       "      <td>1000183.0</td>\n",
       "      <td>59597.1711</td>\n",
       "      <td>5</td>\n",
       "      <td>78.801926</td>\n",
       "      <td>65.485069</td>\n",
       "      <td>0</td>\n",
       "      <td>0.6753</td>\n",
       "    </tr>\n",
       "    <tr>\n",
       "      <th>...</th>\n",
       "      <td>...</td>\n",
       "      <td>...</td>\n",
       "      <td>...</td>\n",
       "      <td>...</td>\n",
       "      <td>...</td>\n",
       "      <td>...</td>\n",
       "      <td>...</td>\n",
       "    </tr>\n",
       "    <tr>\n",
       "      <th>44281690</th>\n",
       "      <td>13952424.0</td>\n",
       "      <td>60663.2247</td>\n",
       "      <td>3</td>\n",
       "      <td>-3.304427</td>\n",
       "      <td>2.799608</td>\n",
       "      <td>0</td>\n",
       "      <td>0.7949</td>\n",
       "    </tr>\n",
       "    <tr>\n",
       "      <th>44281691</th>\n",
       "      <td>13952424.0</td>\n",
       "      <td>60664.2162</td>\n",
       "      <td>2</td>\n",
       "      <td>-6.012751</td>\n",
       "      <td>4.671264</td>\n",
       "      <td>0</td>\n",
       "      <td>0.7949</td>\n",
       "    </tr>\n",
       "    <tr>\n",
       "      <th>44281692</th>\n",
       "      <td>13952424.0</td>\n",
       "      <td>60666.1202</td>\n",
       "      <td>1</td>\n",
       "      <td>-0.776305</td>\n",
       "      <td>2.129328</td>\n",
       "      <td>0</td>\n",
       "      <td>0.7949</td>\n",
       "    </tr>\n",
       "    <tr>\n",
       "      <th>44281693</th>\n",
       "      <td>13952424.0</td>\n",
       "      <td>60666.2058</td>\n",
       "      <td>2</td>\n",
       "      <td>5.584902</td>\n",
       "      <td>3.180095</td>\n",
       "      <td>0</td>\n",
       "      <td>0.7949</td>\n",
       "    </tr>\n",
       "    <tr>\n",
       "      <th>44281694</th>\n",
       "      <td>13952424.0</td>\n",
       "      <td>60670.0712</td>\n",
       "      <td>1</td>\n",
       "      <td>-0.346272</td>\n",
       "      <td>2.427056</td>\n",
       "      <td>0</td>\n",
       "      <td>0.7949</td>\n",
       "    </tr>\n",
       "  </tbody>\n",
       "</table>\n",
       "<p>44281695 rows × 7 columns</p>\n",
       "</div>"
      ],
      "text/plain": [
       "           object_id         mjd  passband       flux   flux_err  detected  \\\n",
       "0          1000183.0  59583.2493         0  -4.635374   9.278234         0   \n",
       "1          1000183.0  59585.3547         4   6.479336  11.734409         0   \n",
       "2          1000183.0  59586.3595         4 -24.911951  13.357832         0   \n",
       "3          1000183.0  59590.3573         5 -67.180305  21.674242         0   \n",
       "4          1000183.0  59597.1711         5  78.801926  65.485069         0   \n",
       "...              ...         ...       ...        ...        ...       ...   \n",
       "44281690  13952424.0  60663.2247         3  -3.304427   2.799608         0   \n",
       "44281691  13952424.0  60664.2162         2  -6.012751   4.671264         0   \n",
       "44281692  13952424.0  60666.1202         1  -0.776305   2.129328         0   \n",
       "44281693  13952424.0  60666.2058         2   5.584902   3.180095         0   \n",
       "44281694  13952424.0  60670.0712         1  -0.346272   2.427056         0   \n",
       "\n",
       "          hostgal_photoz  \n",
       "0                 0.6753  \n",
       "1                 0.6753  \n",
       "2                 0.6753  \n",
       "3                 0.6753  \n",
       "4                 0.6753  \n",
       "...                  ...  \n",
       "44281690          0.7949  \n",
       "44281691          0.7949  \n",
       "44281692          0.7949  \n",
       "44281693          0.7949  \n",
       "44281694          0.7949  \n",
       "\n",
       "[44281695 rows x 7 columns]"
      ]
     },
     "execution_count": 12,
     "metadata": {},
     "output_type": "execute_result"
    }
   ],
   "source": [
    "df"
   ]
  },
  {
   "cell_type": "code",
   "execution_count": 13,
   "metadata": {},
   "outputs": [
    {
     "data": {
      "text/html": [
       "<div>\n",
       "<style scoped>\n",
       "    .dataframe tbody tr th:only-of-type {\n",
       "        vertical-align: middle;\n",
       "    }\n",
       "\n",
       "    .dataframe tbody tr th {\n",
       "        vertical-align: top;\n",
       "    }\n",
       "\n",
       "    .dataframe thead th {\n",
       "        text-align: right;\n",
       "    }\n",
       "</style>\n",
       "<table border=\"1\" class=\"dataframe\">\n",
       "  <thead>\n",
       "    <tr style=\"text-align: right;\">\n",
       "      <th></th>\n",
       "      <th>object_id</th>\n",
       "      <th>ddf</th>\n",
       "      <th>hostgal_specz</th>\n",
       "      <th>hostgal_photoz</th>\n",
       "      <th>hostgal_photoz_err</th>\n",
       "      <th>distmod</th>\n",
       "      <th>mwebv</th>\n",
       "      <th>target_class</th>\n",
       "    </tr>\n",
       "  </thead>\n",
       "  <tbody>\n",
       "    <tr>\n",
       "      <th>0</th>\n",
       "      <td>1000183</td>\n",
       "      <td>0</td>\n",
       "      <td>NaN</td>\n",
       "      <td>0.6753</td>\n",
       "      <td>0.0284</td>\n",
       "      <td>43.0514</td>\n",
       "      <td>0.076</td>\n",
       "      <td>11</td>\n",
       "    </tr>\n",
       "    <tr>\n",
       "      <th>1</th>\n",
       "      <td>1000235</td>\n",
       "      <td>0</td>\n",
       "      <td>NaN</td>\n",
       "      <td>0.0000</td>\n",
       "      <td>0.0000</td>\n",
       "      <td>NaN</td>\n",
       "      <td>0.049</td>\n",
       "      <td>12</td>\n",
       "    </tr>\n",
       "    <tr>\n",
       "      <th>2</th>\n",
       "      <td>1000260</td>\n",
       "      <td>0</td>\n",
       "      <td>NaN</td>\n",
       "      <td>0.7258</td>\n",
       "      <td>0.0351</td>\n",
       "      <td>43.2431</td>\n",
       "      <td>0.081</td>\n",
       "      <td>3</td>\n",
       "    </tr>\n",
       "    <tr>\n",
       "      <th>3</th>\n",
       "      <td>1000280</td>\n",
       "      <td>0</td>\n",
       "      <td>NaN</td>\n",
       "      <td>0.7382</td>\n",
       "      <td>0.0162</td>\n",
       "      <td>43.2881</td>\n",
       "      <td>0.065</td>\n",
       "      <td>11</td>\n",
       "    </tr>\n",
       "    <tr>\n",
       "      <th>4</th>\n",
       "      <td>1000282</td>\n",
       "      <td>0</td>\n",
       "      <td>NaN</td>\n",
       "      <td>0.7577</td>\n",
       "      <td>0.0182</td>\n",
       "      <td>43.3577</td>\n",
       "      <td>0.156</td>\n",
       "      <td>10</td>\n",
       "    </tr>\n",
       "    <tr>\n",
       "      <th>...</th>\n",
       "      <td>...</td>\n",
       "      <td>...</td>\n",
       "      <td>...</td>\n",
       "      <td>...</td>\n",
       "      <td>...</td>\n",
       "      <td>...</td>\n",
       "      <td>...</td>\n",
       "      <td>...</td>\n",
       "    </tr>\n",
       "    <tr>\n",
       "      <th>345992</th>\n",
       "      <td>13952407</td>\n",
       "      <td>0</td>\n",
       "      <td>NaN</td>\n",
       "      <td>0.6187</td>\n",
       "      <td>0.0143</td>\n",
       "      <td>42.8201</td>\n",
       "      <td>0.024</td>\n",
       "      <td>11</td>\n",
       "    </tr>\n",
       "    <tr>\n",
       "      <th>345993</th>\n",
       "      <td>13952410</td>\n",
       "      <td>0</td>\n",
       "      <td>NaN</td>\n",
       "      <td>0.3469</td>\n",
       "      <td>0.0387</td>\n",
       "      <td>41.3212</td>\n",
       "      <td>0.139</td>\n",
       "      <td>3</td>\n",
       "    </tr>\n",
       "    <tr>\n",
       "      <th>345994</th>\n",
       "      <td>13952415</td>\n",
       "      <td>0</td>\n",
       "      <td>NaN</td>\n",
       "      <td>0.4545</td>\n",
       "      <td>0.1876</td>\n",
       "      <td>42.0133</td>\n",
       "      <td>0.266</td>\n",
       "      <td>11</td>\n",
       "    </tr>\n",
       "    <tr>\n",
       "      <th>345995</th>\n",
       "      <td>13952421</td>\n",
       "      <td>0</td>\n",
       "      <td>NaN</td>\n",
       "      <td>0.4323</td>\n",
       "      <td>0.0412</td>\n",
       "      <td>41.8844</td>\n",
       "      <td>0.066</td>\n",
       "      <td>3</td>\n",
       "    </tr>\n",
       "    <tr>\n",
       "      <th>345996</th>\n",
       "      <td>13952424</td>\n",
       "      <td>0</td>\n",
       "      <td>NaN</td>\n",
       "      <td>0.7949</td>\n",
       "      <td>0.0304</td>\n",
       "      <td>43.4856</td>\n",
       "      <td>0.067</td>\n",
       "      <td>3</td>\n",
       "    </tr>\n",
       "  </tbody>\n",
       "</table>\n",
       "<p>345997 rows × 8 columns</p>\n",
       "</div>"
      ],
      "text/plain": [
       "        object_id  ddf  hostgal_specz  hostgal_photoz  hostgal_photoz_err  \\\n",
       "0         1000183    0            NaN          0.6753              0.0284   \n",
       "1         1000235    0            NaN          0.0000              0.0000   \n",
       "2         1000260    0            NaN          0.7258              0.0351   \n",
       "3         1000280    0            NaN          0.7382              0.0162   \n",
       "4         1000282    0            NaN          0.7577              0.0182   \n",
       "...           ...  ...            ...             ...                 ...   \n",
       "345992   13952407    0            NaN          0.6187              0.0143   \n",
       "345993   13952410    0            NaN          0.3469              0.0387   \n",
       "345994   13952415    0            NaN          0.4545              0.1876   \n",
       "345995   13952421    0            NaN          0.4323              0.0412   \n",
       "345996   13952424    0            NaN          0.7949              0.0304   \n",
       "\n",
       "        distmod  mwebv  target_class  \n",
       "0       43.0514  0.076            11  \n",
       "1           NaN  0.049            12  \n",
       "2       43.2431  0.081             3  \n",
       "3       43.2881  0.065            11  \n",
       "4       43.3577  0.156            10  \n",
       "...         ...    ...           ...  \n",
       "345992  42.8201  0.024            11  \n",
       "345993  41.3212  0.139             3  \n",
       "345994  42.0133  0.266            11  \n",
       "345995  41.8844  0.066             3  \n",
       "345996  43.4856  0.067             3  \n",
       "\n",
       "[345997 rows x 8 columns]"
      ]
     },
     "execution_count": 13,
     "metadata": {},
     "output_type": "execute_result"
    }
   ],
   "source": [
    "df2d"
   ]
  },
  {
   "cell_type": "code",
   "execution_count": 14,
   "metadata": {},
   "outputs": [],
   "source": [
    "df = df.merge(df.loc[:,[\"object_id\",\"mjd\"]].groupby('object_id').first().rename(columns={\"mjd\":\"mjd_start\"}),on=\"object_id\")\n",
    "df[\"mjd\"] = df[\"mjd\"] - df[\"mjd_start\"]\n",
    "df.drop(\"mjd_start\",1,inplace=True)"
   ]
  },
  {
   "cell_type": "code",
   "execution_count": 15,
   "metadata": {},
   "outputs": [],
   "source": [
    "# df[\"mjd\"]=df[\"mjd\"]/100"
   ]
  },
  {
   "cell_type": "code",
   "execution_count": 16,
   "metadata": {},
   "outputs": [],
   "source": [
    "df[\"mjd\"] = df[\"mjd\"]/(df[\"hostgal_photoz\"]+1)"
   ]
  },
  {
   "cell_type": "code",
   "execution_count": 17,
   "metadata": {},
   "outputs": [],
   "source": [
    "df[\"lsst_wavelength\"]=df.loc[:,[\"passband\"]].replace(pb_wavelength)"
   ]
  },
  {
   "cell_type": "code",
   "execution_count": 18,
   "metadata": {},
   "outputs": [],
   "source": [
    "df[\"source_wavelength\"]=df[\"lsst_wavelength\"]/(df[\"hostgal_photoz\"]+1)"
   ]
  },
  {
   "cell_type": "code",
   "execution_count": 19,
   "metadata": {},
   "outputs": [],
   "source": [
    "df.drop(\"lsst_wavelength\",1,inplace=True)"
   ]
  },
  {
   "cell_type": "code",
   "execution_count": null,
   "metadata": {},
   "outputs": [],
   "source": [
    "df[\"mjd_diff1\"]=df.loc[:,[\"object_id\",\"mjd\"]].groupby('object_id').diff(periods=1)\n",
    "df[\"mjd_diff2\"]=df.loc[:,[\"object_id\",\"mjd\"]].groupby('object_id').diff(periods=-1)\n",
    "df[\"mjd_diff1\"].fillna(0,inplace=True)\n",
    "df[\"mjd_diff2\"].fillna(0,inplace=True)"
   ]
  },
  {
   "cell_type": "code",
   "execution_count": null,
   "metadata": {},
   "outputs": [],
   "source": [
    "flux_pow=np.log2(df.loc[:,[\"object_id\",\"flux\"]].groupby('object_id').max() - df.loc[:,[\"object_id\",\"flux\"]].groupby('object_id').min()).reset_index().rename(columns={\"flux\":\"flux_pow\"})"
   ]
  },
  {
   "cell_type": "code",
   "execution_count": null,
   "metadata": {},
   "outputs": [],
   "source": [
    "df = df.merge(flux_pow,on=\"object_id\")"
   ]
  },
  {
   "cell_type": "code",
   "execution_count": null,
   "metadata": {},
   "outputs": [],
   "source": [
    "df[\"flux\"]=df[\"flux\"]/np.power(2,df[\"flux_pow\"])\n",
    "df[\"flux_err\"]=df[\"flux_err\"]/np.power(2,df[\"flux_pow\"])"
   ]
  },
  {
   "cell_type": "code",
   "execution_count": null,
   "metadata": {},
   "outputs": [],
   "source": [
    "flux_pow[\"small_flux_pow\"]=flux_pow[\"flux_pow\"]/10"
   ]
  },
  {
   "cell_type": "code",
   "execution_count": null,
   "metadata": {
    "scrolled": true
   },
   "outputs": [],
   "source": [
    "df2d = df2d.merge(flux_pow.loc[:,[\"object_id\",\"small_flux_pow\"]],on=\"object_id\")"
   ]
  },
  {
   "cell_type": "code",
   "execution_count": null,
   "metadata": {},
   "outputs": [],
   "source": [
    "assert np.array_equal(df2d.object_id.unique(),df.object_id.unique())"
   ]
  },
  {
   "cell_type": "code",
   "execution_count": null,
   "metadata": {},
   "outputs": [],
   "source": [
    "assert len(df2d) == len(df.object_id.unique())"
   ]
  },
  {
   "cell_type": "code",
   "execution_count": null,
   "metadata": {},
   "outputs": [],
   "source": [
    "df2d.loc[df2d['hostgal_photoz'] > 0, 'nonzero_photoz'] = 1\n",
    "df2d.loc[df2d['hostgal_photoz'] == 0, 'nonzero_photoz'] = 0"
   ]
  },
  {
   "cell_type": "code",
   "execution_count": null,
   "metadata": {},
   "outputs": [],
   "source": [
    "#band of zerrxy\n",
    "df[\"bands\"]=df[\"passband\"]+1"
   ]
  },
  {
   "cell_type": "code",
   "execution_count": null,
   "metadata": {},
   "outputs": [],
   "source": [
    "df.drop([\n",
    "#     \"object_id\",\n",
    "    \"mjd\",\n",
    "    \"passband\",\n",
    "    \"detected\",           #Decide whether to drop or not\n",
    "    \"hostgal_photoz\",\n",
    "    \"flux_pow\"],\n",
    "    1,\n",
    "    inplace=True)"
   ]
  },
  {
   "cell_type": "code",
   "execution_count": null,
   "metadata": {},
   "outputs": [],
   "source": [
    "labels=df2d.target_class.to_numpy()\n",
    "df2d.drop(\"target_class\",1,inplace=True)\n",
    "\n",
    "df2d.drop([\n",
    "    \"object_id\",\n",
    "#     \"hostgal_specz\",      #Decide whethere to drop or not\n",
    "],\n",
    "    1,\n",
    "    inplace=True)"
   ]
  },
  {
   "cell_type": "code",
   "execution_count": null,
   "metadata": {},
   "outputs": [],
   "source": [
    "df"
   ]
  },
  {
   "cell_type": "code",
   "execution_count": null,
   "metadata": {},
   "outputs": [],
   "source": [
    "df2d.fillna(0,inplace=True)\n",
    "df.fillna(0,inplace=True)"
   ]
  },
  {
   "cell_type": "code",
   "execution_count": null,
   "metadata": {},
   "outputs": [],
   "source": [
    "#Meta of zerrxy \n",
    "twod_data=df2d.to_numpy()"
   ]
  },
  {
   "cell_type": "code",
   "execution_count": null,
   "metadata": {},
   "outputs": [],
   "source": [
    "#Hist of zerrxy, except last column is bands\n",
    "obj_change_index=np.where(df[\"object_id\"][:-1].to_numpy() != df[\"object_id\"][1:].to_numpy())[0]+1\n",
    "tuplist=list(zip(np.insert(obj_change_index,0,0),obj_change_index))\n",
    "dfarray=df.to_numpy()\n",
    "list_of_data_arrays=[]\n",
    "for tup in tuplist:\n",
    "    list_of_data_arrays.append(dfarray[tup[0]:tup[1],1:])\n",
    "list_of_data_arrays.append(dfarray[obj_change_index[-1]:,1:])\n",
    "#Then sequence padsequences\n",
    "#max_length=max(map(len,list_of_data_arrays))\n",
    "#threed_data=sequence.pad_sequences(list_of_data_arrays, maxlen=max_length)"
   ]
  },
  {
   "cell_type": "code",
   "execution_count": null,
   "metadata": {},
   "outputs": [],
   "source": [
    "df.columns"
   ]
  },
  {
   "cell_type": "code",
   "execution_count": null,
   "metadata": {},
   "outputs": [],
   "source": [
    "df2d.columns"
   ]
  },
  {
   "cell_type": "code",
   "execution_count": null,
   "metadata": {},
   "outputs": [],
   "source": [
    "with open(fr\"{pickle_location}\\test2_3d_pickle\", \"wb\") as fp:   #Pickling\n",
    "    pickle.dump(list_of_data_arrays, fp)\n",
    "\n",
    "with open(fr\"{pickle_location}\\test2_2d_pickle\", \"wb\") as fp:   #Pickling\n",
    "    pickle.dump(twod_data, fp)\n",
    "    \n",
    "with open(fr\"{pickle_location}\\test2_label_pickle\", \"wb\") as fp:   #Pickling\n",
    "    pickle.dump(labels, fp)"
   ]
  },
  {
   "cell_type": "code",
   "execution_count": null,
   "metadata": {},
   "outputs": [],
   "source": []
  }
 ],
 "metadata": {
  "kernelspec": {
   "display_name": "TensorFlow210",
   "language": "python",
   "name": "tf"
  },
  "language_info": {
   "codemirror_mode": {
    "name": "ipython",
    "version": 3
   },
   "file_extension": ".py",
   "mimetype": "text/x-python",
   "name": "python",
   "nbconvert_exporter": "python",
   "pygments_lexer": "ipython3",
   "version": "3.7.7"
  }
 },
 "nbformat": 4,
 "nbformat_minor": 4
}
