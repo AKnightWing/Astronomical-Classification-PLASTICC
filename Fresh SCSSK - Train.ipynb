{
 "cells": [
  {
   "cell_type": "code",
   "execution_count": 3,
   "metadata": {},
   "outputs": [
    {
     "name": "stdout",
     "output_type": "stream",
     "text": [
      "Found config file! Loading it.\n",
      "D:\\Siddharth Data\\PLAsTiCC\\Raw Data\n",
      "Data Location = D:\\Siddharth Data\\PLAsTiCC\\Raw Data\n",
      "Found pickle location!\n",
      "Pickle Location = C:\\Users\\Sid\\Desktop\\Pickle\n"
     ]
    }
   ],
   "source": [
    "import pandas as pd\n",
    "import numpy as np\n",
    "from sklearn.model_selection import train_test_split\n",
    "from time import process_time \n",
    "import pickle\n",
    "import random\n",
    "from pathlib import Path\n",
    "import os\n",
    "import sys\n",
    "from sklearn import preprocessing\n",
    "import gc\n",
    "from scsskutils import *"
   ]
  },
  {
   "cell_type": "code",
   "execution_count": 4,
   "metadata": {},
   "outputs": [
    {
     "data": {
      "text/plain": [
       "WindowsPath('D:/Siddharth Data/PLAsTiCC/Raw Data')"
      ]
     },
     "execution_count": 4,
     "metadata": {},
     "output_type": "execute_result"
    }
   ],
   "source": [
    "data_location"
   ]
  },
  {
   "cell_type": "code",
   "execution_count": 5,
   "metadata": {},
   "outputs": [],
   "source": [
    "classes = np.array([6, 15, 16, 42, 52, 53, 62, 64, 65, 67, 88, 90, 92, 95, 99])\n",
    "class_weight = {6: 1, 15: 2, 16: 1, 42: 1, 52: 1, 53: 1, 62: 1, 64: 2, 65: 1, 67: 1, 88: 1, 90: 1, 92: 1, 95: 1, 99: 1}\n",
    "pb_wavelength = {0:360, 1:476, 2:621.5, 3:754.5, 4:870, 5:1015}\n",
    "#https://www.lsst.org/sites/default/files/docs/sciencebook/SB_2.pdf - pg35, Table 2.1"
   ]
  },
  {
   "cell_type": "code",
   "execution_count": 6,
   "metadata": {},
   "outputs": [],
   "source": [
    "def get_wtable(df):\n",
    "    all_y = np.array(df['target'], dtype = 'int32')\n",
    "    y_count = np.unique(all_y, return_counts=True)[1]\n",
    "    wtable = np.ones(len(classes))\n",
    "    for i in range(0, y_count.shape[0]):\n",
    "        wtable[i] = y_count[i] / all_y.shape[0]\n",
    "    return wtable"
   ]
  },
  {
   "cell_type": "code",
   "execution_count": 7,
   "metadata": {},
   "outputs": [],
   "source": [
    "target_dict ={\n",
    "    6: 0,\n",
    "    15: 1,\n",
    "    16: 2,\n",
    "    42: 3,\n",
    "    52: 4,\n",
    "    53: 5,\n",
    "    62: 6,\n",
    "    64: 7,\n",
    "    65: 8,\n",
    "    67: 9,\n",
    "    88: 10,\n",
    "    90: 11,\n",
    "    92: 12,\n",
    "    95: 13,\n",
    "    99: 14,\n",
    "    991: 14,\n",
    "    992: 14,\n",
    "    993: 14,\n",
    "    994: 14\n",
    "}\n"
   ]
  },
  {
   "cell_type": "markdown",
   "metadata": {},
   "source": [
    "# Training"
   ]
  },
  {
   "cell_type": "code",
   "execution_count": 8,
   "metadata": {},
   "outputs": [],
   "source": [
    "df=pd.read_csv(fr\"{data_location}\\training_set.csv\")"
   ]
  },
  {
   "cell_type": "code",
   "execution_count": 9,
   "metadata": {},
   "outputs": [],
   "source": [
    "df2d=pd.read_csv(fr\"{data_location}\\training_set_metadata.csv\")"
   ]
  },
  {
   "cell_type": "code",
   "execution_count": 10,
   "metadata": {},
   "outputs": [],
   "source": [
    "wtable = get_wtable(df2d)"
   ]
  },
  {
   "cell_type": "code",
   "execution_count": 11,
   "metadata": {},
   "outputs": [],
   "source": [
    "df2d[\"target_class\"]=df2d.loc[:,[\"target\"]].replace(target_dict)\n",
    "df2d.drop([\"ra\",\"decl\",\"gal_l\",\"gal_b\",\"target\"],1,inplace=True)    #Should hostgal_specz be used or not? Hmmm"
   ]
  },
  {
   "cell_type": "code",
   "execution_count": 12,
   "metadata": {},
   "outputs": [],
   "source": [
    "df =df.merge(df2d[[\"object_id\",\"hostgal_photoz\"]],on=\"object_id\")"
   ]
  },
  {
   "cell_type": "code",
   "execution_count": 13,
   "metadata": {},
   "outputs": [],
   "source": [
    "df[\"object_id\"] = df[\"object_id\"].astype(np.float64)"
   ]
  },
  {
   "cell_type": "markdown",
   "metadata": {},
   "source": [
    "### AUGMENTATION FOR TRAIN"
   ]
  },
  {
   "cell_type": "code",
   "execution_count": 12,
   "metadata": {},
   "outputs": [],
   "source": [
    "dfcopies=[]\n",
    "df2dcopies=[]"
   ]
  },
  {
   "cell_type": "code",
   "execution_count": 13,
   "metadata": {},
   "outputs": [],
   "source": [
    "replication_num=25"
   ]
  },
  {
   "cell_type": "code",
   "execution_count": 14,
   "metadata": {},
   "outputs": [],
   "source": [
    "import numpy as np"
   ]
  },
  {
   "cell_type": "code",
   "execution_count": 15,
   "metadata": {},
   "outputs": [],
   "source": [
    "for i in range(replication_num):\n",
    "    dfcopy=df.copy()\n",
    "    df2dcopy=df2d.copy()\n",
    "    if i<=25:\n",
    "        percentage_to_drop = np.random.uniform(10,30+(1.5*i/2))\n",
    "    elif i<=45 and i>25:\n",
    "        percentage_to_drop = np.random.uniform(10,30+(i/2))\n",
    "    else:\n",
    "        percentage_to_drop = np.random.uniform(30,55)\n",
    "    drop_indices = np.random.choice(dfcopy.index, int(percentage_to_drop/100 * len(dfcopy.index)), replace=False)\n",
    "    tot_objs=len(dfcopy.object_id.unique())\n",
    "    dfcopy = dfcopy.drop(drop_indices).reset_index(drop=True)\n",
    "    new_objs=len(dfcopy.object_id.unique())\n",
    "    while new_objs!=tot_objs:\n",
    "        dfcopy = dfcopy.drop(drop_indices).reset_index(drop=True)\n",
    "        \n",
    "    df2dcopy[\"aug_hostgal_photoz\"] = np.random.normal(df2dcopy['hostgal_photoz'], df2dcopy['hostgal_photoz_err']/1.5)\n",
    "    df2dcopy.loc[df2dcopy[\"aug_hostgal_photoz\"]<0,[\"aug_hostgal_photoz\"]] = 0\n",
    "    df2dcopy.loc[df2dcopy[\"aug_hostgal_photoz\"]>5,[\"aug_hostgal_photoz\"]] = 5\n",
    "    \n",
    "    dfcopy = dfcopy.merge(df2dcopy[[\"object_id\",\"aug_hostgal_photoz\"]],on=\"object_id\")\n",
    "    dfcopy[\"dt\"]=(1+dfcopy[\"hostgal_photoz\"])/(1+dfcopy[\"aug_hostgal_photoz\"])\n",
    "    \n",
    "    df2dcopy[\"hostgal_photoz\"] = df2dcopy[\"aug_hostgal_photoz\"]\n",
    "    df2dcopy.drop(\"aug_hostgal_photoz\",1,inplace=True)\n",
    "    dfcopy[\"hostgal_photoz\"] = dfcopy[\"aug_hostgal_photoz\"]\n",
    "    dfcopy.drop(\"aug_hostgal_photoz\",1,inplace=True)\n",
    "    \n",
    "    dfcopy['flux'] = np.random.normal(dfcopy['flux'], dfcopy['flux_err']/1.5)\n",
    "    dfcopy[\"mjd\"]=dfcopy[\"mjd\"]*dfcopy[\"dt\"]\n",
    "    dfcopy.drop(\"dt\",1,inplace=True)\n",
    "    \n",
    "    dfcopy[\"object_id\"]+=(i+1)/(replication_num+1)\n",
    "    df2dcopy[\"object_id\"]+=(i+1)/(replication_num+1)\n",
    "    \n",
    "    dfcopies.append(dfcopy)\n",
    "    df2dcopies.append(df2dcopy)"
   ]
  },
  {
   "cell_type": "code",
   "execution_count": 16,
   "metadata": {},
   "outputs": [],
   "source": [
    "dfcopies.append(df)\n",
    "df2dcopies.append(df2d)"
   ]
  },
  {
   "cell_type": "code",
   "execution_count": 17,
   "metadata": {},
   "outputs": [],
   "source": [
    "df = pd.concat(dfcopies,ignore_index=True)\n",
    "df2d = pd.concat(df2dcopies,ignore_index=True)"
   ]
  },
  {
   "cell_type": "code",
   "execution_count": 18,
   "metadata": {},
   "outputs": [],
   "source": [
    "del(dfcopies)\n",
    "del(df2dcopies)"
   ]
  },
  {
   "cell_type": "markdown",
   "metadata": {},
   "source": [
    "### End of Augmentation"
   ]
  },
  {
   "cell_type": "code",
   "execution_count": 19,
   "metadata": {},
   "outputs": [
    {
     "data": {
      "text/html": [
       "<div>\n",
       "<style scoped>\n",
       "    .dataframe tbody tr th:only-of-type {\n",
       "        vertical-align: middle;\n",
       "    }\n",
       "\n",
       "    .dataframe tbody tr th {\n",
       "        vertical-align: top;\n",
       "    }\n",
       "\n",
       "    .dataframe thead th {\n",
       "        text-align: right;\n",
       "    }\n",
       "</style>\n",
       "<table border=\"1\" class=\"dataframe\">\n",
       "  <thead>\n",
       "    <tr style=\"text-align: right;\">\n",
       "      <th></th>\n",
       "      <th>object_id</th>\n",
       "      <th>mjd</th>\n",
       "      <th>passband</th>\n",
       "      <th>flux</th>\n",
       "      <th>flux_err</th>\n",
       "      <th>detected</th>\n",
       "      <th>hostgal_photoz</th>\n",
       "    </tr>\n",
       "  </thead>\n",
       "  <tbody>\n",
       "    <tr>\n",
       "      <th>0</th>\n",
       "      <td>6.150385e+02</td>\n",
       "      <td>59750.4229</td>\n",
       "      <td>2</td>\n",
       "      <td>-548.692532</td>\n",
       "      <td>3.622952</td>\n",
       "      <td>1</td>\n",
       "      <td>0.0</td>\n",
       "    </tr>\n",
       "    <tr>\n",
       "      <th>1</th>\n",
       "      <td>6.150385e+02</td>\n",
       "      <td>59750.4306</td>\n",
       "      <td>1</td>\n",
       "      <td>-824.696533</td>\n",
       "      <td>5.553370</td>\n",
       "      <td>1</td>\n",
       "      <td>0.0</td>\n",
       "    </tr>\n",
       "    <tr>\n",
       "      <th>2</th>\n",
       "      <td>6.150385e+02</td>\n",
       "      <td>59750.4383</td>\n",
       "      <td>3</td>\n",
       "      <td>-470.382758</td>\n",
       "      <td>3.801213</td>\n",
       "      <td>1</td>\n",
       "      <td>0.0</td>\n",
       "    </tr>\n",
       "    <tr>\n",
       "      <th>3</th>\n",
       "      <td>6.150385e+02</td>\n",
       "      <td>59750.4450</td>\n",
       "      <td>4</td>\n",
       "      <td>-387.056474</td>\n",
       "      <td>11.395031</td>\n",
       "      <td>1</td>\n",
       "      <td>0.0</td>\n",
       "    </tr>\n",
       "    <tr>\n",
       "      <th>4</th>\n",
       "      <td>6.150385e+02</td>\n",
       "      <td>59752.4070</td>\n",
       "      <td>2</td>\n",
       "      <td>-677.025032</td>\n",
       "      <td>4.041204</td>\n",
       "      <td>1</td>\n",
       "      <td>0.0</td>\n",
       "    </tr>\n",
       "    <tr>\n",
       "      <th>...</th>\n",
       "      <td>...</td>\n",
       "      <td>...</td>\n",
       "      <td>...</td>\n",
       "      <td>...</td>\n",
       "      <td>...</td>\n",
       "      <td>...</td>\n",
       "      <td>...</td>\n",
       "    </tr>\n",
       "    <tr>\n",
       "      <th>28171173</th>\n",
       "      <td>1.307798e+08</td>\n",
       "      <td>60555.9838</td>\n",
       "      <td>4</td>\n",
       "      <td>-39.881969</td>\n",
       "      <td>46.477093</td>\n",
       "      <td>0</td>\n",
       "      <td>0.0</td>\n",
       "    </tr>\n",
       "    <tr>\n",
       "      <th>28171174</th>\n",
       "      <td>1.307798e+08</td>\n",
       "      <td>60560.0459</td>\n",
       "      <td>1</td>\n",
       "      <td>14.894439</td>\n",
       "      <td>18.947685</td>\n",
       "      <td>0</td>\n",
       "      <td>0.0</td>\n",
       "    </tr>\n",
       "    <tr>\n",
       "      <th>28171175</th>\n",
       "      <td>1.307798e+08</td>\n",
       "      <td>60571.0225</td>\n",
       "      <td>5</td>\n",
       "      <td>30.593130</td>\n",
       "      <td>50.695290</td>\n",
       "      <td>0</td>\n",
       "      <td>0.0</td>\n",
       "    </tr>\n",
       "    <tr>\n",
       "      <th>28171176</th>\n",
       "      <td>1.307798e+08</td>\n",
       "      <td>60585.9974</td>\n",
       "      <td>4</td>\n",
       "      <td>-23.471439</td>\n",
       "      <td>44.819859</td>\n",
       "      <td>0</td>\n",
       "      <td>0.0</td>\n",
       "    </tr>\n",
       "    <tr>\n",
       "      <th>28171177</th>\n",
       "      <td>1.307798e+08</td>\n",
       "      <td>60588.0372</td>\n",
       "      <td>0</td>\n",
       "      <td>-41.214264</td>\n",
       "      <td>51.665123</td>\n",
       "      <td>0</td>\n",
       "      <td>0.0</td>\n",
       "    </tr>\n",
       "  </tbody>\n",
       "</table>\n",
       "<p>28171178 rows × 7 columns</p>\n",
       "</div>"
      ],
      "text/plain": [
       "             object_id         mjd  passband        flux   flux_err  detected  \\\n",
       "0         6.150385e+02  59750.4229         2 -548.692532   3.622952         1   \n",
       "1         6.150385e+02  59750.4306         1 -824.696533   5.553370         1   \n",
       "2         6.150385e+02  59750.4383         3 -470.382758   3.801213         1   \n",
       "3         6.150385e+02  59750.4450         4 -387.056474  11.395031         1   \n",
       "4         6.150385e+02  59752.4070         2 -677.025032   4.041204         1   \n",
       "...                ...         ...       ...         ...        ...       ...   \n",
       "28171173  1.307798e+08  60555.9838         4  -39.881969  46.477093         0   \n",
       "28171174  1.307798e+08  60560.0459         1   14.894439  18.947685         0   \n",
       "28171175  1.307798e+08  60571.0225         5   30.593130  50.695290         0   \n",
       "28171176  1.307798e+08  60585.9974         4  -23.471439  44.819859         0   \n",
       "28171177  1.307798e+08  60588.0372         0  -41.214264  51.665123         0   \n",
       "\n",
       "          hostgal_photoz  \n",
       "0                    0.0  \n",
       "1                    0.0  \n",
       "2                    0.0  \n",
       "3                    0.0  \n",
       "4                    0.0  \n",
       "...                  ...  \n",
       "28171173             0.0  \n",
       "28171174             0.0  \n",
       "28171175             0.0  \n",
       "28171176             0.0  \n",
       "28171177             0.0  \n",
       "\n",
       "[28171178 rows x 7 columns]"
      ]
     },
     "execution_count": 19,
     "metadata": {},
     "output_type": "execute_result"
    }
   ],
   "source": [
    "df"
   ]
  },
  {
   "cell_type": "code",
   "execution_count": 20,
   "metadata": {},
   "outputs": [
    {
     "data": {
      "text/html": [
       "<div>\n",
       "<style scoped>\n",
       "    .dataframe tbody tr th:only-of-type {\n",
       "        vertical-align: middle;\n",
       "    }\n",
       "\n",
       "    .dataframe tbody tr th {\n",
       "        vertical-align: top;\n",
       "    }\n",
       "\n",
       "    .dataframe thead th {\n",
       "        text-align: right;\n",
       "    }\n",
       "</style>\n",
       "<table border=\"1\" class=\"dataframe\">\n",
       "  <thead>\n",
       "    <tr style=\"text-align: right;\">\n",
       "      <th></th>\n",
       "      <th>object_id</th>\n",
       "      <th>ddf</th>\n",
       "      <th>hostgal_specz</th>\n",
       "      <th>hostgal_photoz</th>\n",
       "      <th>hostgal_photoz_err</th>\n",
       "      <th>distmod</th>\n",
       "      <th>mwebv</th>\n",
       "      <th>target_class</th>\n",
       "    </tr>\n",
       "  </thead>\n",
       "  <tbody>\n",
       "    <tr>\n",
       "      <th>0</th>\n",
       "      <td>6.150385e+02</td>\n",
       "      <td>1</td>\n",
       "      <td>0.0000</td>\n",
       "      <td>0.000000</td>\n",
       "      <td>0.0000</td>\n",
       "      <td>NaN</td>\n",
       "      <td>0.017</td>\n",
       "      <td>12</td>\n",
       "    </tr>\n",
       "    <tr>\n",
       "      <th>1</th>\n",
       "      <td>7.130385e+02</td>\n",
       "      <td>1</td>\n",
       "      <td>1.8181</td>\n",
       "      <td>1.698186</td>\n",
       "      <td>0.2552</td>\n",
       "      <td>45.4063</td>\n",
       "      <td>0.007</td>\n",
       "      <td>10</td>\n",
       "    </tr>\n",
       "    <tr>\n",
       "      <th>2</th>\n",
       "      <td>7.300385e+02</td>\n",
       "      <td>1</td>\n",
       "      <td>0.2320</td>\n",
       "      <td>0.229102</td>\n",
       "      <td>0.0157</td>\n",
       "      <td>40.2561</td>\n",
       "      <td>0.021</td>\n",
       "      <td>3</td>\n",
       "    </tr>\n",
       "    <tr>\n",
       "      <th>3</th>\n",
       "      <td>7.450385e+02</td>\n",
       "      <td>1</td>\n",
       "      <td>0.3037</td>\n",
       "      <td>0.879650</td>\n",
       "      <td>1.1523</td>\n",
       "      <td>40.7951</td>\n",
       "      <td>0.007</td>\n",
       "      <td>11</td>\n",
       "    </tr>\n",
       "    <tr>\n",
       "      <th>4</th>\n",
       "      <td>1.124038e+03</td>\n",
       "      <td>1</td>\n",
       "      <td>0.1934</td>\n",
       "      <td>0.240077</td>\n",
       "      <td>0.0176</td>\n",
       "      <td>40.4166</td>\n",
       "      <td>0.024</td>\n",
       "      <td>11</td>\n",
       "    </tr>\n",
       "    <tr>\n",
       "      <th>...</th>\n",
       "      <td>...</td>\n",
       "      <td>...</td>\n",
       "      <td>...</td>\n",
       "      <td>...</td>\n",
       "      <td>...</td>\n",
       "      <td>...</td>\n",
       "      <td>...</td>\n",
       "      <td>...</td>\n",
       "    </tr>\n",
       "    <tr>\n",
       "      <th>204043</th>\n",
       "      <td>1.307400e+08</td>\n",
       "      <td>0</td>\n",
       "      <td>0.0000</td>\n",
       "      <td>0.000000</td>\n",
       "      <td>0.0000</td>\n",
       "      <td>NaN</td>\n",
       "      <td>0.013</td>\n",
       "      <td>8</td>\n",
       "    </tr>\n",
       "    <tr>\n",
       "      <th>204044</th>\n",
       "      <td>1.307558e+08</td>\n",
       "      <td>0</td>\n",
       "      <td>0.1725</td>\n",
       "      <td>2.560600</td>\n",
       "      <td>1.1146</td>\n",
       "      <td>46.6108</td>\n",
       "      <td>0.136</td>\n",
       "      <td>11</td>\n",
       "    </tr>\n",
       "    <tr>\n",
       "      <th>204045</th>\n",
       "      <td>1.307629e+08</td>\n",
       "      <td>0</td>\n",
       "      <td>0.0000</td>\n",
       "      <td>0.000000</td>\n",
       "      <td>0.0000</td>\n",
       "      <td>NaN</td>\n",
       "      <td>0.430</td>\n",
       "      <td>2</td>\n",
       "    </tr>\n",
       "    <tr>\n",
       "      <th>204046</th>\n",
       "      <td>1.307729e+08</td>\n",
       "      <td>0</td>\n",
       "      <td>0.0000</td>\n",
       "      <td>0.000000</td>\n",
       "      <td>0.0000</td>\n",
       "      <td>NaN</td>\n",
       "      <td>0.034</td>\n",
       "      <td>8</td>\n",
       "    </tr>\n",
       "    <tr>\n",
       "      <th>204047</th>\n",
       "      <td>1.307798e+08</td>\n",
       "      <td>0</td>\n",
       "      <td>0.0000</td>\n",
       "      <td>0.000000</td>\n",
       "      <td>0.0000</td>\n",
       "      <td>NaN</td>\n",
       "      <td>0.091</td>\n",
       "      <td>0</td>\n",
       "    </tr>\n",
       "  </tbody>\n",
       "</table>\n",
       "<p>204048 rows × 8 columns</p>\n",
       "</div>"
      ],
      "text/plain": [
       "           object_id  ddf  hostgal_specz  hostgal_photoz  hostgal_photoz_err  \\\n",
       "0       6.150385e+02    1         0.0000        0.000000              0.0000   \n",
       "1       7.130385e+02    1         1.8181        1.698186              0.2552   \n",
       "2       7.300385e+02    1         0.2320        0.229102              0.0157   \n",
       "3       7.450385e+02    1         0.3037        0.879650              1.1523   \n",
       "4       1.124038e+03    1         0.1934        0.240077              0.0176   \n",
       "...              ...  ...            ...             ...                 ...   \n",
       "204043  1.307400e+08    0         0.0000        0.000000              0.0000   \n",
       "204044  1.307558e+08    0         0.1725        2.560600              1.1146   \n",
       "204045  1.307629e+08    0         0.0000        0.000000              0.0000   \n",
       "204046  1.307729e+08    0         0.0000        0.000000              0.0000   \n",
       "204047  1.307798e+08    0         0.0000        0.000000              0.0000   \n",
       "\n",
       "        distmod  mwebv  target_class  \n",
       "0           NaN  0.017            12  \n",
       "1       45.4063  0.007            10  \n",
       "2       40.2561  0.021             3  \n",
       "3       40.7951  0.007            11  \n",
       "4       40.4166  0.024            11  \n",
       "...         ...    ...           ...  \n",
       "204043      NaN  0.013             8  \n",
       "204044  46.6108  0.136            11  \n",
       "204045      NaN  0.430             2  \n",
       "204046      NaN  0.034             8  \n",
       "204047      NaN  0.091             0  \n",
       "\n",
       "[204048 rows x 8 columns]"
      ]
     },
     "execution_count": 20,
     "metadata": {},
     "output_type": "execute_result"
    }
   ],
   "source": [
    "df2d"
   ]
  },
  {
   "cell_type": "code",
   "execution_count": 21,
   "metadata": {},
   "outputs": [],
   "source": [
    "df = df.merge(df.loc[:,[\"object_id\",\"mjd\"]].groupby('object_id').first().rename(columns={\"mjd\":\"mjd_start\"}),on=\"object_id\")\n",
    "df[\"mjd\"] = df[\"mjd\"] - df[\"mjd_start\"]\n",
    "df.drop(\"mjd_start\",1,inplace=True)"
   ]
  },
  {
   "cell_type": "code",
   "execution_count": 22,
   "metadata": {},
   "outputs": [],
   "source": [
    "# df[\"mjd\"]=df[\"mjd\"]/100"
   ]
  },
  {
   "cell_type": "code",
   "execution_count": 23,
   "metadata": {},
   "outputs": [],
   "source": [
    "df[\"mjd\"] = df[\"mjd\"]/(df[\"hostgal_photoz\"]+1)"
   ]
  },
  {
   "cell_type": "code",
   "execution_count": 24,
   "metadata": {},
   "outputs": [],
   "source": [
    "df[\"lsst_wavelength\"]=df.loc[:,[\"passband\"]].replace(pb_wavelength)"
   ]
  },
  {
   "cell_type": "code",
   "execution_count": 25,
   "metadata": {},
   "outputs": [],
   "source": [
    "df[\"source_wavelength\"]=df[\"lsst_wavelength\"]/(df[\"hostgal_photoz\"]+1)"
   ]
  },
  {
   "cell_type": "code",
   "execution_count": 26,
   "metadata": {},
   "outputs": [],
   "source": [
    "df.drop(\"lsst_wavelength\",1,inplace=True)"
   ]
  },
  {
   "cell_type": "code",
   "execution_count": 27,
   "metadata": {},
   "outputs": [],
   "source": [
    "df[\"mjd_diff1\"]=df.loc[:,[\"object_id\",\"mjd\"]].groupby('object_id').diff(periods=1)\n",
    "df[\"mjd_diff2\"]=df.loc[:,[\"object_id\",\"mjd\"]].groupby('object_id').diff(periods=-1)\n",
    "df[\"mjd_diff1\"].fillna(0,inplace=True)\n",
    "df[\"mjd_diff2\"].fillna(0,inplace=True)"
   ]
  },
  {
   "cell_type": "code",
   "execution_count": 28,
   "metadata": {},
   "outputs": [],
   "source": [
    "flux_pow=np.log2(df.loc[:,[\"object_id\",\"flux\"]].groupby('object_id').max() - df.loc[:,[\"object_id\",\"flux\"]].groupby('object_id').min()).reset_index().rename(columns={\"flux\":\"flux_pow\"})"
   ]
  },
  {
   "cell_type": "code",
   "execution_count": 29,
   "metadata": {},
   "outputs": [],
   "source": [
    "df = df.merge(flux_pow,on=\"object_id\")"
   ]
  },
  {
   "cell_type": "code",
   "execution_count": 30,
   "metadata": {},
   "outputs": [],
   "source": [
    "df[\"flux\"]=df[\"flux\"]/np.power(2,df[\"flux_pow\"])\n",
    "df[\"flux_err\"]=df[\"flux_err\"]/np.power(2,df[\"flux_pow\"])"
   ]
  },
  {
   "cell_type": "code",
   "execution_count": 31,
   "metadata": {},
   "outputs": [],
   "source": [
    "flux_pow[\"small_flux_pow\"]=flux_pow[\"flux_pow\"]/10"
   ]
  },
  {
   "cell_type": "code",
   "execution_count": 32,
   "metadata": {
    "scrolled": true
   },
   "outputs": [],
   "source": [
    "df2d = df2d.merge(flux_pow.loc[:,[\"object_id\",\"small_flux_pow\"]],on=\"object_id\")"
   ]
  },
  {
   "cell_type": "code",
   "execution_count": 33,
   "metadata": {},
   "outputs": [],
   "source": [
    "assert np.array_equal(df2d.object_id.unique(),df.object_id.unique())"
   ]
  },
  {
   "cell_type": "code",
   "execution_count": 34,
   "metadata": {},
   "outputs": [],
   "source": [
    "assert len(df2d) == len(df.object_id.unique())"
   ]
  },
  {
   "cell_type": "code",
   "execution_count": 35,
   "metadata": {},
   "outputs": [],
   "source": [
    "df2d.loc[df2d['hostgal_photoz'] > 0, 'nonzero_photoz'] = 1\n",
    "df2d.loc[df2d['hostgal_photoz'] == 0, 'nonzero_photoz'] = 0"
   ]
  },
  {
   "cell_type": "code",
   "execution_count": 36,
   "metadata": {},
   "outputs": [],
   "source": [
    "#band of zerrxy\n",
    "df[\"bands\"]=df[\"passband\"]+1"
   ]
  },
  {
   "cell_type": "code",
   "execution_count": 37,
   "metadata": {},
   "outputs": [],
   "source": [
    "df.drop([\n",
    "#     \"object_id\",\n",
    "    \"mjd\",\n",
    "    \"passband\",\n",
    "    \"detected\",           #Decide whether to drop or not\n",
    "    \"hostgal_photoz\",\n",
    "    \"flux_pow\"],\n",
    "    1,\n",
    "    inplace=True)"
   ]
  },
  {
   "cell_type": "code",
   "execution_count": 38,
   "metadata": {},
   "outputs": [],
   "source": [
    "labels=df2d.target_class.to_numpy()\n",
    "df2d.drop(\"target_class\",1,inplace=True)\n",
    "\n",
    "df2d.drop([\n",
    "    \"object_id\",\n",
    "#     \"hostgal_specz\",      #Decide whethere to drop or not\n",
    "],\n",
    "    1,\n",
    "    inplace=True)"
   ]
  },
  {
   "cell_type": "code",
   "execution_count": 39,
   "metadata": {},
   "outputs": [
    {
     "data": {
      "text/html": [
       "<div>\n",
       "<style scoped>\n",
       "    .dataframe tbody tr th:only-of-type {\n",
       "        vertical-align: middle;\n",
       "    }\n",
       "\n",
       "    .dataframe tbody tr th {\n",
       "        vertical-align: top;\n",
       "    }\n",
       "\n",
       "    .dataframe thead th {\n",
       "        text-align: right;\n",
       "    }\n",
       "</style>\n",
       "<table border=\"1\" class=\"dataframe\">\n",
       "  <thead>\n",
       "    <tr style=\"text-align: right;\">\n",
       "      <th></th>\n",
       "      <th>object_id</th>\n",
       "      <th>flux</th>\n",
       "      <th>flux_err</th>\n",
       "      <th>source_wavelength</th>\n",
       "      <th>mjd_diff1</th>\n",
       "      <th>mjd_diff2</th>\n",
       "      <th>bands</th>\n",
       "    </tr>\n",
       "  </thead>\n",
       "  <tbody>\n",
       "    <tr>\n",
       "      <th>0</th>\n",
       "      <td>6.150385e+02</td>\n",
       "      <td>-0.311036</td>\n",
       "      <td>0.002054</td>\n",
       "      <td>621.5</td>\n",
       "      <td>0.0000</td>\n",
       "      <td>-0.0077</td>\n",
       "      <td>3</td>\n",
       "    </tr>\n",
       "    <tr>\n",
       "      <th>1</th>\n",
       "      <td>6.150385e+02</td>\n",
       "      <td>-0.467494</td>\n",
       "      <td>0.003148</td>\n",
       "      <td>476.0</td>\n",
       "      <td>0.0077</td>\n",
       "      <td>-0.0077</td>\n",
       "      <td>2</td>\n",
       "    </tr>\n",
       "    <tr>\n",
       "      <th>2</th>\n",
       "      <td>6.150385e+02</td>\n",
       "      <td>-0.266645</td>\n",
       "      <td>0.002155</td>\n",
       "      <td>754.5</td>\n",
       "      <td>0.0077</td>\n",
       "      <td>-0.0067</td>\n",
       "      <td>4</td>\n",
       "    </tr>\n",
       "    <tr>\n",
       "      <th>3</th>\n",
       "      <td>6.150385e+02</td>\n",
       "      <td>-0.219410</td>\n",
       "      <td>0.006459</td>\n",
       "      <td>870.0</td>\n",
       "      <td>0.0067</td>\n",
       "      <td>-1.9620</td>\n",
       "      <td>5</td>\n",
       "    </tr>\n",
       "    <tr>\n",
       "      <th>4</th>\n",
       "      <td>6.150385e+02</td>\n",
       "      <td>-0.383783</td>\n",
       "      <td>0.002291</td>\n",
       "      <td>621.5</td>\n",
       "      <td>1.9620</td>\n",
       "      <td>-0.0077</td>\n",
       "      <td>3</td>\n",
       "    </tr>\n",
       "    <tr>\n",
       "      <th>...</th>\n",
       "      <td>...</td>\n",
       "      <td>...</td>\n",
       "      <td>...</td>\n",
       "      <td>...</td>\n",
       "      <td>...</td>\n",
       "      <td>...</td>\n",
       "      <td>...</td>\n",
       "    </tr>\n",
       "    <tr>\n",
       "      <th>28171173</th>\n",
       "      <td>1.307798e+08</td>\n",
       "      <td>-0.000724</td>\n",
       "      <td>0.000844</td>\n",
       "      <td>870.0</td>\n",
       "      <td>7.0049</td>\n",
       "      <td>-4.0621</td>\n",
       "      <td>5</td>\n",
       "    </tr>\n",
       "    <tr>\n",
       "      <th>28171174</th>\n",
       "      <td>1.307798e+08</td>\n",
       "      <td>0.000270</td>\n",
       "      <td>0.000344</td>\n",
       "      <td>476.0</td>\n",
       "      <td>4.0621</td>\n",
       "      <td>-10.9766</td>\n",
       "      <td>2</td>\n",
       "    </tr>\n",
       "    <tr>\n",
       "      <th>28171175</th>\n",
       "      <td>1.307798e+08</td>\n",
       "      <td>0.000556</td>\n",
       "      <td>0.000921</td>\n",
       "      <td>1015.0</td>\n",
       "      <td>10.9766</td>\n",
       "      <td>-14.9749</td>\n",
       "      <td>6</td>\n",
       "    </tr>\n",
       "    <tr>\n",
       "      <th>28171176</th>\n",
       "      <td>1.307798e+08</td>\n",
       "      <td>-0.000426</td>\n",
       "      <td>0.000814</td>\n",
       "      <td>870.0</td>\n",
       "      <td>14.9749</td>\n",
       "      <td>-2.0398</td>\n",
       "      <td>5</td>\n",
       "    </tr>\n",
       "    <tr>\n",
       "      <th>28171177</th>\n",
       "      <td>1.307798e+08</td>\n",
       "      <td>-0.000748</td>\n",
       "      <td>0.000938</td>\n",
       "      <td>360.0</td>\n",
       "      <td>2.0398</td>\n",
       "      <td>0.0000</td>\n",
       "      <td>1</td>\n",
       "    </tr>\n",
       "  </tbody>\n",
       "</table>\n",
       "<p>28171178 rows × 7 columns</p>\n",
       "</div>"
      ],
      "text/plain": [
       "             object_id      flux  flux_err  source_wavelength  mjd_diff1  \\\n",
       "0         6.150385e+02 -0.311036  0.002054              621.5     0.0000   \n",
       "1         6.150385e+02 -0.467494  0.003148              476.0     0.0077   \n",
       "2         6.150385e+02 -0.266645  0.002155              754.5     0.0077   \n",
       "3         6.150385e+02 -0.219410  0.006459              870.0     0.0067   \n",
       "4         6.150385e+02 -0.383783  0.002291              621.5     1.9620   \n",
       "...                ...       ...       ...                ...        ...   \n",
       "28171173  1.307798e+08 -0.000724  0.000844              870.0     7.0049   \n",
       "28171174  1.307798e+08  0.000270  0.000344              476.0     4.0621   \n",
       "28171175  1.307798e+08  0.000556  0.000921             1015.0    10.9766   \n",
       "28171176  1.307798e+08 -0.000426  0.000814              870.0    14.9749   \n",
       "28171177  1.307798e+08 -0.000748  0.000938              360.0     2.0398   \n",
       "\n",
       "          mjd_diff2  bands  \n",
       "0           -0.0077      3  \n",
       "1           -0.0077      2  \n",
       "2           -0.0067      4  \n",
       "3           -1.9620      5  \n",
       "4           -0.0077      3  \n",
       "...             ...    ...  \n",
       "28171173    -4.0621      5  \n",
       "28171174   -10.9766      2  \n",
       "28171175   -14.9749      6  \n",
       "28171176    -2.0398      5  \n",
       "28171177     0.0000      1  \n",
       "\n",
       "[28171178 rows x 7 columns]"
      ]
     },
     "execution_count": 39,
     "metadata": {},
     "output_type": "execute_result"
    }
   ],
   "source": [
    "df"
   ]
  },
  {
   "cell_type": "code",
   "execution_count": 40,
   "metadata": {},
   "outputs": [],
   "source": [
    "df2d.fillna(0,inplace=True)\n",
    "df.fillna(0,inplace=True)"
   ]
  },
  {
   "cell_type": "code",
   "execution_count": 41,
   "metadata": {},
   "outputs": [],
   "source": [
    "#Meta of zerrxy \n",
    "twod_data=df2d.to_numpy()"
   ]
  },
  {
   "cell_type": "code",
   "execution_count": 42,
   "metadata": {},
   "outputs": [],
   "source": [
    "#Hist of zerrxy, except last column is bands\n",
    "obj_change_index=np.where(df[\"object_id\"][:-1].to_numpy() != df[\"object_id\"][1:].to_numpy())[0]+1\n",
    "tuplist=list(zip(np.insert(obj_change_index,0,0),obj_change_index))\n",
    "dfarray=df.to_numpy()\n",
    "list_of_data_arrays=[]\n",
    "for tup in tuplist:\n",
    "    list_of_data_arrays.append(dfarray[tup[0]:tup[1],1:])\n",
    "list_of_data_arrays.append(dfarray[obj_change_index[-1]:,1:])\n",
    "#Then sequence padsequences\n",
    "#max_length=max(map(len,list_of_data_arrays))\n",
    "#threed_data=sequence.pad_sequences(list_of_data_arrays, maxlen=max_length)"
   ]
  },
  {
   "cell_type": "code",
   "execution_count": 43,
   "metadata": {},
   "outputs": [
    {
     "data": {
      "text/plain": [
       "Index(['object_id', 'flux', 'flux_err', 'source_wavelength', 'mjd_diff1',\n",
       "       'mjd_diff2', 'bands'],\n",
       "      dtype='object')"
      ]
     },
     "execution_count": 43,
     "metadata": {},
     "output_type": "execute_result"
    }
   ],
   "source": [
    "df.columns"
   ]
  },
  {
   "cell_type": "code",
   "execution_count": 44,
   "metadata": {},
   "outputs": [
    {
     "data": {
      "text/plain": [
       "Index(['ddf', 'hostgal_specz', 'hostgal_photoz', 'hostgal_photoz_err',\n",
       "       'distmod', 'mwebv', 'small_flux_pow', 'nonzero_photoz'],\n",
       "      dtype='object')"
      ]
     },
     "execution_count": 44,
     "metadata": {},
     "output_type": "execute_result"
    }
   ],
   "source": [
    "df2d.columns"
   ]
  },
  {
   "cell_type": "code",
   "execution_count": 45,
   "metadata": {},
   "outputs": [],
   "source": [
    "with open(fr\"{pickle_location}\\train_3d_pickle\", \"wb\") as fp:   #Pickling\n",
    "    pickle.dump(list_of_data_arrays, fp)\n",
    "\n",
    "with open(fr\"{pickle_location}\\train_2d_pickle\", \"wb\") as fp:   #Pickling\n",
    "    pickle.dump(twod_data, fp)\n",
    "    \n",
    "with open(fr\"{pickle_location}\\train_label_pickle\", \"wb\") as fp:   #Pickling\n",
    "    pickle.dump(labels, fp)"
   ]
  },
  {
   "cell_type": "code",
   "execution_count": null,
   "metadata": {},
   "outputs": [],
   "source": []
  }
 ],
 "metadata": {
  "kernelspec": {
   "display_name": "TensorFlow210",
   "language": "python",
   "name": "tf"
  },
  "language_info": {
   "codemirror_mode": {
    "name": "ipython",
    "version": 3
   },
   "file_extension": ".py",
   "mimetype": "text/x-python",
   "name": "python",
   "nbconvert_exporter": "python",
   "pygments_lexer": "ipython3",
   "version": "3.7.7"
  }
 },
 "nbformat": 4,
 "nbformat_minor": 4
}
